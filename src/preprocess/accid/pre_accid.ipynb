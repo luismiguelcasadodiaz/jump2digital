{
 "cells": [
  {
   "cell_type": "code",
   "execution_count": 66,
   "id": "ac25e192",
   "metadata": {},
   "outputs": [],
   "source": [
    "# **************************************************************************** #\n",
    "#                                                                              #\n",
    "#                                                         :::      ::::::::    #\n",
    "#                                                       :+:      :+:    :+:    #\n",
    "#                                                     +:+ +:+         +:+      #\n",
    "#    By: luicasad <luicasad@student.42.fr>          +#+  +:+       +#+         #\n",
    "#                                                 +#+#+#+#+#+   +#+            #\n",
    "#    Created: 2023/10/22 11:17:16 by luicasad          #+#    #+#              #\n",
    "#    Updated: 2023/10/22 11:17:24 by luicasad         ###   ########.fr        #\n",
    "#                                                                              #\n",
    "# **************************************************************************** #"
   ]
  },
  {
   "cell_type": "markdown",
   "id": "cd7e34f0",
   "metadata": {},
   "source": [
    "<span style='color:red'> Augmenta l'amplada del quadern jupyter<br> </span><span style='color:green'> Aumento el ancho del cuaderno Jupyter<br></span><span style='color:blue'> Increase the width of jupyter notebook <br></span>"
   ]
  },
  {
   "cell_type": "code",
   "execution_count": 67,
   "id": "5407afb7",
   "metadata": {},
   "outputs": [
    {
     "data": {
      "text/html": [
       "<style>.container { width:100%}</style>"
      ],
      "text/plain": [
       "<IPython.core.display.HTML object>"
      ]
     },
     "metadata": {},
     "output_type": "display_data"
    }
   ],
   "source": [
    "from IPython.display import display, HTML\n",
    "display(HTML(\"<style>.container { width:100%}</style>\"))"
   ]
  },
  {
   "cell_type": "code",
   "execution_count": 68,
   "id": "1fe80229",
   "metadata": {},
   "outputs": [],
   "source": [
    "import os\n",
    "import pandas as pd\n",
    "import geopandas as gpd\n",
    "import numpy as np\n",
    "home_dir = os.getcwd()\n",
    "data_folder =  home_dir +'/../../../data/accid/'"
   ]
  },
  {
   "cell_type": "code",
   "execution_count": 69,
   "id": "96c8585d",
   "metadata": {},
   "outputs": [],
   "source": [
    "def\tprint_head_tail(df):\n",
    "    print(df.iloc[[0,1, 2, df.index[-3],df.index[-2],df.index[-1]]])\n",
    "\n",
    "def concat_files(data_folder:str, years: range, common_name:str )-> pd.DataFrame:\n",
    "\n",
    "    #For each year, \n",
    "    #   create a dataframe reading a csv file.\n",
    "    #   Append it to a list\n",
    "    #   Create a dataframe with columns count\n",
    "\n",
    "    files = []\n",
    "    counts =[]\n",
    "    for year in years:\n",
    "        file = data_folder + str(year) + common_name\n",
    "        df = pd.read_csv(file)\n",
    "        files.append(df)\n",
    "        counts.append(pd.DataFrame(data=df.count(), columns=[year]))\n",
    "        print(year)\n",
    "        print(df.shape)\n",
    "        print(list(df))\n",
    "        #print(df.head(3))\n",
    "        print(\"-\" * 80)\n",
    "    print(pd.concat(counts, axis=1))\n",
    "    \n",
    "    return pd.concat(files, ignore_index=True)\n",
    "\n",
    "def count_NAN(df):\n",
    "    \"\"\"\n",
    "    Count NAN values in each column of a dataset.\n",
    "    Print 8 counts in per line\n",
    "    \"\"\"\n",
    "    col_counter = 1\n",
    "    for col in df.columns:\n",
    "        count = df[col].isna().sum()\n",
    "        if ((col_counter % 8) == 0):\n",
    "            sep = \"|\\n\"\n",
    "        else:\n",
    "            sep = \"| \"\n",
    "        print(\"|{} = {}\".format(col,count), end=sep)\n",
    "        col_counter = col_counter + 1\n",
    "def minus_one(df):\n",
    "    \"\"\"\n",
    "    Count NAN values in each column of a dataset.\n",
    "    Print 8 counts in per line\n",
    "    \"\"\"\n",
    "    col_counter = 1\n",
    "    for col in df.columns[:-1]:\n",
    "        count = df[df[col] == -1][col].count()\n",
    "        if ((col_counter % 8) == 0):\n",
    "            sep = \"|\\n\"\n",
    "        else:\n",
    "            sep = \"| \"\n",
    "        print(\"|{} = {}\".format(col,count), end=sep)\n",
    "        col_counter = col_counter + 1\n",
    "\n",
    "def concat_accid_files(data_folder:str, \\\n",
    "                       years: range, \\\n",
    "                       common_name:str, \\\n",
    "                       headers:list)-> pd.DataFrame:\n",
    "\n",
    "    #For each year, \n",
    "    #   create a dataframe reading a csv file.\n",
    "    #   Append it to a list\n",
    "    #   Create a dataframe with columns count\n",
    "    field_types = {'Codi_districte':int, \\\n",
    "                   'Codi_barri':int, \\\n",
    "                   'Codi_carrer':int, \\\n",
    "                   'NK_Any':int, \\\n",
    "                   'Mes_any':int, \\\n",
    "                   'Dia_mes':int, \\\n",
    "                   'Coordenada_UTM_X_ED50':np.float64, \\\n",
    "                   'Coordenada_UTM_Y_ED50':np.float64, \\\n",
    "                   'Longitud':np.float64, \\\n",
    "                   'Latitud':np.float64}\n",
    "    converters = {\"Longitud\": lambda x: np.nan if x == '' else x, \\\n",
    "                  \"Longitud\": lambda x: np.nan if x == '' else x}\n",
    "    files = []\n",
    "    counts =[]\n",
    "    for year in years:\n",
    "        file = data_folder + str(year) + common_name\n",
    "        df = pd.read_csv(file, dtype=field_types)\n",
    "        df.columns = headers\n",
    "        files.append(df)\n",
    "        counts.append(pd.DataFrame(data=df.count(), columns=[year]))\n",
    "        #print(year)\n",
    "        #print(df.shape)\n",
    "        #print(df.head(3))\n",
    "        #print(\"-\" * 80)\n",
    "    #print(pd.concat(counts, axis=1))\n",
    "    \n",
    "    return pd.concat(files, ignore_index=True)\n",
    "    \n",
    "def save_preprocessed(df,data_folder:str,file_name:str):\n",
    "\tprint(\"Saving preprocessed data.....\")\n",
    "\n",
    "\t# File path\n",
    "\tfile_path = data_folder + file_name\n",
    "\n",
    "\t# Save data\n",
    "\tdf.to_csv(file_path, index= False)"
   ]
  },
  {
   "cell_type": "markdown",
   "id": "efc07bac",
   "metadata": {},
   "source": [
    "<span style='color:red'> Llegir i concatenar tots els fitxers d'accidents com Pandas GEO DataFrames<br> </span><span style='color:green'> Lectura y concatenación de los archivos de accidentes como Pandas GEO DataFrames<br></span><span style='color:blue'> Read and concatenate all accident files as Pandas GEO DataFrames <br></span>"
   ]
  },
  {
   "cell_type": "code",
   "execution_count": 70,
   "id": "78280a11",
   "metadata": {},
   "outputs": [
    {
     "name": "stdout",
     "output_type": "stream",
     "text": [
      "2016\n",
      "(10510, 20)\n",
      "['Numero_expedient', 'Codi_districte', 'Nom_districte', 'Codi_barri', 'Nom_barri', 'Codi_carrer', 'Nom_carrer', 'Num_postal ', 'Descripcio_dia_setmana', 'NK_Any', 'Mes_any', 'Nom_mes', 'Dia_mes', 'Hora_dia', 'Descripcio_torn', 'Descripcio_causa_conductor', 'Coordenada_UTM_X_ED50', 'Coordenada_UTM_Y_ED50', 'Longitud', 'Latitud']\n",
      "--------------------------------------------------------------------------------\n",
      "2017\n",
      "(11091, 20)\n",
      "['Numero_expedient', 'Codi_districte', 'Nom_districte', 'Codi_barri', 'Nom_barri', 'Codi_carrer', 'Nom_carrer', 'Num_postal ', 'Descripcio_dia_setmana', 'NK_Any', 'Mes_any', 'Nom_mes', 'Dia_mes', 'Hora_dia', 'Descripcio_torn', 'Descripcio_causa_conductor', 'Coordenada_UTM_X_ED50', 'Coordenada_UTM_Y_ED50', 'Longitud', 'Latitud']\n",
      "--------------------------------------------------------------------------------\n",
      "2018\n",
      "(10835, 20)\n",
      "['Numero_expedient', 'Codi_districte', 'Nom_districte', 'Codi_barri', 'Nom_barri', 'Codi_carrer', 'Nom_carrer', 'Num_postal ', 'Descripcio_dia_setmana', 'NK_Any', 'Mes_any', 'Nom_mes', 'Dia_mes', 'Hora_dia', 'Descripcio_torn', 'Descripcio_causa_conductor', 'Coordenada_UTM_X_ED50', 'Coordenada_UTM_Y_ED50', 'Longitud', 'Latitud']\n",
      "--------------------------------------------------------------------------------\n",
      "2019\n",
      "(11025, 20)\n",
      "['Numero_expedient', 'Codi_districte', 'Nom_districte', 'Codi_barri', 'Nom_barri', 'Codi_carrer', 'Nom_carrer', 'Num_postal ', 'Descripcio_dia_setmana', 'NK_Any', 'Mes_any', 'Nom_mes', 'Dia_mes', 'Hora_dia', 'Descripcio_torn', 'Descripcio_causa_conductor', 'Coordenada_UTM_X_ED50', 'Coordenada_UTM_Y_ED50', 'Longitud', 'Latitud']\n",
      "--------------------------------------------------------------------------------\n",
      "2020\n",
      "(7595, 20)\n",
      "['Numero_expedient', 'Codi_districte', 'Nom_districte', 'Codi_barri', 'Nom_barri', 'Codi_carrer', 'Nom_carrer', 'Num_postal ', 'Descripcio_dia_setmana', 'NK_Any', 'Mes_any', 'Nom_mes', 'Dia_mes', 'Hora_dia', 'Descripcio_torn', 'Descripcio_causa_conductor', 'Coordenada_UTM_X_ED50', 'Coordenada_UTM_Y_ED50', 'Longitud', 'Latitud']\n",
      "--------------------------------------------------------------------------------\n",
      "2021\n",
      "(8979, 20)\n",
      "['Numero_expedient', 'Codi_districte', 'Nom_districte', 'Codi_barri', 'Nom_barri', 'Codi_carrer', 'Nom_carrer', 'Num_postal ', 'Descripcio_dia_setmana', 'NK_Any', 'Mes_any', 'Nom_mes', 'Dia_mes', 'Hora_dia', 'Descripcio_causa_mediata', 'Descripcio_torn', 'Coordenada_UTM_X_ED50', 'Coordenada_UTM_Y_ED50', 'Longitud', 'Latitud']\n",
      "--------------------------------------------------------------------------------\n",
      "2022\n",
      "(9320, 20)\n",
      "['Numero_expedient', 'Codi_districte', 'Nom_districte', 'Codi_barri', 'Nom_barri', 'Codi_carrer', 'Nom_carrer', 'Num_postal ', 'Descripcio_dia_setmana', 'NK_Any', 'Mes_any', 'Nom_mes', 'Dia_mes', 'Hora_dia', 'Descripcio_causa_mediata', 'Descripcio_torn', 'Coordenada_UTM_X_ED50', 'Coordenada_UTM_Y_ED50', 'Longitud', 'Latitud']\n",
      "--------------------------------------------------------------------------------\n",
      "                               2016     2017     2018     2019    2020    2021    2022\n",
      "Numero_expedient            10510.0  11091.0  10835.0  11025.0  7595.0  8979.0  9320.0\n",
      "Codi_districte              10510.0  11091.0  10835.0  11025.0  7595.0  8979.0  9320.0\n",
      "Nom_districte               10510.0  11091.0  10835.0  11025.0  7595.0  8979.0  9320.0\n",
      "Codi_barri                  10510.0  11091.0  10835.0  11025.0  7595.0  8979.0  9320.0\n",
      "Nom_barri                   10510.0  11091.0  10835.0  11025.0  7595.0  8979.0  9320.0\n",
      "Codi_carrer                 10510.0  11091.0  10835.0  11025.0  7595.0  8979.0  9320.0\n",
      "Nom_carrer                  10510.0  11091.0  10835.0  11025.0  7595.0  8979.0  9319.0\n",
      "Num_postal                  10510.0  11089.0  10835.0  11018.0  7589.0  8979.0  9319.0\n",
      "Descripcio_dia_setmana      10510.0  11091.0  10835.0  11025.0  7595.0  8979.0  9320.0\n",
      "NK_Any                      10510.0  11091.0  10835.0  11025.0  7595.0  8979.0  9320.0\n",
      "Mes_any                     10510.0  11091.0  10835.0  11025.0  7595.0  8979.0  9320.0\n",
      "Nom_mes                     10510.0  11091.0  10835.0  11025.0  7595.0  8979.0  9320.0\n",
      "Dia_mes                     10510.0  11091.0  10835.0  11025.0  7595.0  8979.0  9320.0\n",
      "Hora_dia                    10510.0  11091.0  10835.0  11025.0  7595.0  8979.0  9320.0\n",
      "Descripcio_torn             10510.0  11091.0  10835.0  11025.0  7595.0  8979.0  9320.0\n",
      "Descripcio_causa_conductor  10510.0  11091.0  10835.0  11025.0  7595.0     NaN     NaN\n",
      "Coordenada_UTM_X_ED50       10510.0  11091.0  10835.0  11025.0  7595.0  8979.0  9320.0\n",
      "Coordenada_UTM_Y_ED50       10510.0  11091.0  10835.0  11025.0  7595.0  8979.0  9320.0\n",
      "Longitud                    10510.0  11091.0  10835.0  11025.0  7595.0  8949.0  9320.0\n",
      "Latitud                     10510.0  11091.0  10835.0  11025.0  7595.0  8949.0  9320.0\n",
      "Descripcio_causa_mediata        NaN      NaN      NaN      NaN     NaN  8979.0  9320.0\n",
      "      Numero_expedient  Codi_districte Nom_districte  Codi_barri                      Nom_barri  Codi_carrer  \\\n",
      "0      2016S008785                  -1    Desconegut          -1                     Desconegut           -1   \n",
      "1      2016S006269                  -1    Desconegut          -1                     Desconegut           -1   \n",
      "2      2016S005498                  -1    Desconegut          -1                     Desconegut           -1   \n",
      "69352  2022S008007                   8    Nou Barris          44  Vilapicina i la Torre Llobeta       119003   \n",
      "69353  2022S007475                   8    Nou Barris          44  Vilapicina i la Torre Llobeta       119003   \n",
      "69354  2022S002249                   8    Nou Barris          45                          Porta       282650   \n",
      "\n",
      "                                              Nom_carrer Num_postal  Descripcio_dia_setmana  NK_Any  ...   Nom_mes  \\\n",
      "0      NÚMERO 6 / A                                  ...  Desconegut                Dimarts    2016  ...  Novembre   \n",
      "1      ALMIRALL CERVERA / Sevilla                    ...  Desconegut              Divendres    2016  ...     Agost   \n",
      "2      NÚMERO 3 / E                                  ...  Desconegut               Dimecres    2016  ...    Juliol   \n",
      "69352  Arnau d'Oms                                   ...   0181 0181               Dissabte    2022  ...  Desembre   \n",
      "69353  Arnau d'Oms / Fabra i Puig                    ...   0181 0181                Dilluns    2022  ...  Desembre   \n",
      "69354  Meridiana                                     ...   0001 0001                Dilluns    2022  ...     Abril   \n",
      "\n",
      "      Dia_mes  Hora_dia               Descripcio_torn Descripcio_causa_conductor Coordenada_UTM_X_ED50  \\\n",
      "0          15        22       Desobeir altres senyals                        Nit             427519.99   \n",
      "1          12         8  No respectat pas de vianants                       Matí             432316.21   \n",
      "2          13         5                        Altres                        Nit             427265.97   \n",
      "69352      31        21                         Tarda                        NaN             431370.38   \n",
      "69353       5        15                         Tarda                        NaN             431360.13   \n",
      "69354      18        23                           Nit                        NaN             431791.13   \n",
      "\n",
      "       Coordenada_UTM_Y_ED50  Longitud    Latitud        Descripcio_causa_mediata  \n",
      "0                 4575229.36  2.165891  41.375166                             NaN  \n",
      "1                 4581276.81  2.154737  41.376367                             NaN  \n",
      "2                 4576644.81  2.157427  41.381284                             NaN  \n",
      "69352             4587010.59  2.177485  41.429885  Manca d'atenció a la conducció  \n",
      "69353             4587054.30  2.177357  41.430277                Desobeir semàfor  \n",
      "69354             4587315.35  2.182486  41.432665  Manca d'atenció a la conducció  \n",
      "\n",
      "[6 rows x 21 columns]\n"
     ]
    }
   ],
   "source": [
    "pd.set_option(\"display.width\", 120)\n",
    "accid = concat_files(data_folder, range(2016, 2023),\"_accidents_causa_conductor_gu_bcn_.csv\")\n",
    "#pd.concat(counts, axis=1)\n",
    "print_head_tail(accid)"
   ]
  },
  {
   "cell_type": "markdown",
   "id": "6c73c421-47de-42e7-9969-389713ea7b95",
   "metadata": {},
   "source": [
    "<span style='color:red'> Podem apreciar l'intercanvi d'informació entre el torn (Descripcio_torn ) i la causa (Descripcio_causa_conductor) i l'existència de dos noms de camps per a la causa (Descripcio_causa_conductor, Descripcio_causa_mediata): SOlucionem el problema aplicant una capçalera<br> </span><span style='color:green'> Podemos apreciar el intercambio de informacion entre el turno y la causa y la existencia de dos nombres de campos para la causa: SOlucionamoes el problema aplicando una cabecera comun a todos los archivos.<br></span><span style='color:blue'> We can see the exchange of information between the shift (Descripcio_torn) and the cause (Descripcio_causa_conductor) and the existence of two field names for the cause (Descripcio_causa_conductor, Descripcio_causa_mediata): We solve the problem by applying a common header to all files. <br></span>"
   ]
  },
  {
   "cell_type": "code",
   "execution_count": 71,
   "id": "587bad37-0555-47f9-a22f-cf5272a17e07",
   "metadata": {},
   "outputs": [],
   "source": [
    "headers= ['Numero_expedient', 'Codi_districte', 'Nom_districte', 'Codi_barri', 'Nom_barri', \\\n",
    "          'Codi_carrer', 'Nom_carrer', 'Num_postal ', 'Descripcio_dia_setmana', 'NK_Any', \\\n",
    "          'Mes_any', 'Nom_mes', 'Dia_mes', 'Hora_dia', 'Causa', 'Torn', \\\n",
    "          'Coordenada_UTM_X_ED50', 'Coordenada_UTM_Y_ED50', 'Longitud', 'Latitud']\n",
    "accid = concat_accid_files(data_folder, range(2016, 2023),\"_accidents_causa_conductor_gu_bcn_.csv\", headers)\n"
   ]
  },
  {
   "cell_type": "code",
   "execution_count": 72,
   "id": "2e084045-e3f8-4f76-9c4e-b43df4f65ca9",
   "metadata": {},
   "outputs": [],
   "source": [
    "#print(accid.dtypes)"
   ]
  },
  {
   "cell_type": "code",
   "execution_count": 73,
   "id": "a0d8cb5a-4016-412b-9068-2af8757e944c",
   "metadata": {},
   "outputs": [
    {
     "name": "stdout",
     "output_type": "stream",
     "text": [
      "Original Dataset has 69355 rows with 20 columns.\n"
     ]
    }
   ],
   "source": [
    "print(\"Original Dataset has {} rows with {} columns.\".format(accid.shape[0],accid.shape[1]))"
   ]
  },
  {
   "cell_type": "markdown",
   "id": "30bfec84-ead5-4a86-92b5-3ba8db7f621f",
   "metadata": {},
   "source": [
    "### <span style='color:red'> Estudi dels valors Nan<br> </span><span style='color:green'> Estudio de los valores nulos<br></span><span style='color:blue'> Study Nan values <br></span>"
   ]
  },
  {
   "cell_type": "code",
   "execution_count": 74,
   "id": "960e4d07-7781-4c3d-8cd9-3c8504a5d617",
   "metadata": {},
   "outputs": [
    {
     "name": "stdout",
     "output_type": "stream",
     "text": [
      "|Numero_expedient = 0| |Codi_districte = 0| |Nom_districte = 0| |Codi_barri = 0| |Nom_barri = 0| |Codi_carrer = 0| |Nom_carrer = 1| |Num_postal  = 16|\n",
      "|Descripcio_dia_setmana = 0| |NK_Any = 0| |Mes_any = 0| |Nom_mes = 0| |Dia_mes = 0| |Hora_dia = 0| |Causa = 0| |Torn = 0|\n",
      "|Coordenada_UTM_X_ED50 = 0| |Coordenada_UTM_Y_ED50 = 0| |Longitud = 30| |Latitud = 30| "
     ]
    }
   ],
   "source": [
    "count_NAN(accid)"
   ]
  },
  {
   "cell_type": "code",
   "execution_count": 75,
   "id": "9b3c4dab-36ac-4335-94ed-1e9dcc23a16c",
   "metadata": {},
   "outputs": [
    {
     "name": "stdout",
     "output_type": "stream",
     "text": [
      "|Numero_expedient = 0| |Codi_districte = 501| |Nom_districte = 0| |Codi_barri = 501| |Nom_barri = 0| |Codi_carrer = 646| |Nom_carrer = 0| |Num_postal  = 0|\n",
      "|Descripcio_dia_setmana = 0| |NK_Any = 0| |Mes_any = 0| |Nom_mes = 0| |Dia_mes = 0| |Hora_dia = 0| |Causa = 0| |Torn = 0|\n",
      "|Coordenada_UTM_X_ED50 = 30| |Coordenada_UTM_Y_ED50 = 30| |Longitud = 0| "
     ]
    }
   ],
   "source": [
    "minus_one(accid)"
   ]
  },
  {
   "cell_type": "markdown",
   "id": "0323ba76-f0f3-4825-b996-21c103a6b932",
   "metadata": {},
   "source": [
    "<span style='color:red'> Els 30 registres sense coordenades UTM tenen als camps Longitud i Latitud valors NAN i el barri i el carrer desconegut. Els esborrem.<br> </span><span style='color:green'> Los 30 registros sin coordenas UTM tiene en los campos Longitud y Latitud valores NAN y el barrio y la calle desconocida. Los borramos. <br></span><span style='color:blue'> The 30 records without UTM coordinates have NAN values and the unknown neighborhood and street in the Longitude and Latitude fields. We delete them. <br></span>"
   ]
  },
  {
   "cell_type": "code",
   "execution_count": 76,
   "id": "76fb62e6-f066-4b88-8efb-4cd90e0d2d62",
   "metadata": {},
   "outputs": [
    {
     "data": {
      "text/html": [
       "<div>\n",
       "<style scoped>\n",
       "    .dataframe tbody tr th:only-of-type {\n",
       "        vertical-align: middle;\n",
       "    }\n",
       "\n",
       "    .dataframe tbody tr th {\n",
       "        vertical-align: top;\n",
       "    }\n",
       "\n",
       "    .dataframe thead th {\n",
       "        text-align: right;\n",
       "    }\n",
       "</style>\n",
       "<table border=\"1\" class=\"dataframe\">\n",
       "  <thead>\n",
       "    <tr style=\"text-align: right;\">\n",
       "      <th></th>\n",
       "      <th>Nom_barri</th>\n",
       "      <th>Nom_carrer</th>\n",
       "      <th>Coordenada_UTM_X_ED50</th>\n",
       "      <th>Coordenada_UTM_Y_ED50</th>\n",
       "      <th>Longitud</th>\n",
       "      <th>Latitud</th>\n",
       "    </tr>\n",
       "  </thead>\n",
       "  <tbody>\n",
       "    <tr>\n",
       "      <th>52129</th>\n",
       "      <td>Desconegut</td>\n",
       "      <td>Desconegut</td>\n",
       "      <td>-1.0</td>\n",
       "      <td>-1.0</td>\n",
       "      <td>NaN</td>\n",
       "      <td>NaN</td>\n",
       "    </tr>\n",
       "    <tr>\n",
       "      <th>52130</th>\n",
       "      <td>Desconegut</td>\n",
       "      <td>Desconegut</td>\n",
       "      <td>-1.0</td>\n",
       "      <td>-1.0</td>\n",
       "      <td>NaN</td>\n",
       "      <td>NaN</td>\n",
       "    </tr>\n",
       "    <tr>\n",
       "      <th>52131</th>\n",
       "      <td>Desconegut</td>\n",
       "      <td>Desconegut</td>\n",
       "      <td>-1.0</td>\n",
       "      <td>-1.0</td>\n",
       "      <td>NaN</td>\n",
       "      <td>NaN</td>\n",
       "    </tr>\n",
       "    <tr>\n",
       "      <th>52132</th>\n",
       "      <td>Desconegut</td>\n",
       "      <td>Desconegut</td>\n",
       "      <td>-1.0</td>\n",
       "      <td>-1.0</td>\n",
       "      <td>NaN</td>\n",
       "      <td>NaN</td>\n",
       "    </tr>\n",
       "    <tr>\n",
       "      <th>52133</th>\n",
       "      <td>Desconegut</td>\n",
       "      <td>Desconegut</td>\n",
       "      <td>-1.0</td>\n",
       "      <td>-1.0</td>\n",
       "      <td>NaN</td>\n",
       "      <td>NaN</td>\n",
       "    </tr>\n",
       "    <tr>\n",
       "      <th>52134</th>\n",
       "      <td>Desconegut</td>\n",
       "      <td>Desconegut</td>\n",
       "      <td>-1.0</td>\n",
       "      <td>-1.0</td>\n",
       "      <td>NaN</td>\n",
       "      <td>NaN</td>\n",
       "    </tr>\n",
       "    <tr>\n",
       "      <th>52135</th>\n",
       "      <td>Desconegut</td>\n",
       "      <td>Desconegut</td>\n",
       "      <td>-1.0</td>\n",
       "      <td>-1.0</td>\n",
       "      <td>NaN</td>\n",
       "      <td>NaN</td>\n",
       "    </tr>\n",
       "    <tr>\n",
       "      <th>53298</th>\n",
       "      <td>Desconegut</td>\n",
       "      <td>Desconegut</td>\n",
       "      <td>-1.0</td>\n",
       "      <td>-1.0</td>\n",
       "      <td>NaN</td>\n",
       "      <td>NaN</td>\n",
       "    </tr>\n",
       "    <tr>\n",
       "      <th>53299</th>\n",
       "      <td>Desconegut</td>\n",
       "      <td>Desconegut</td>\n",
       "      <td>-1.0</td>\n",
       "      <td>-1.0</td>\n",
       "      <td>NaN</td>\n",
       "      <td>NaN</td>\n",
       "    </tr>\n",
       "    <tr>\n",
       "      <th>54395</th>\n",
       "      <td>Desconegut</td>\n",
       "      <td>Desconegut</td>\n",
       "      <td>-1.0</td>\n",
       "      <td>-1.0</td>\n",
       "      <td>NaN</td>\n",
       "      <td>NaN</td>\n",
       "    </tr>\n",
       "    <tr>\n",
       "      <th>54396</th>\n",
       "      <td>Desconegut</td>\n",
       "      <td>Desconegut</td>\n",
       "      <td>-1.0</td>\n",
       "      <td>-1.0</td>\n",
       "      <td>NaN</td>\n",
       "      <td>NaN</td>\n",
       "    </tr>\n",
       "    <tr>\n",
       "      <th>54397</th>\n",
       "      <td>Desconegut</td>\n",
       "      <td>Desconegut</td>\n",
       "      <td>-1.0</td>\n",
       "      <td>-1.0</td>\n",
       "      <td>NaN</td>\n",
       "      <td>NaN</td>\n",
       "    </tr>\n",
       "    <tr>\n",
       "      <th>54398</th>\n",
       "      <td>Desconegut</td>\n",
       "      <td>Desconegut</td>\n",
       "      <td>-1.0</td>\n",
       "      <td>-1.0</td>\n",
       "      <td>NaN</td>\n",
       "      <td>NaN</td>\n",
       "    </tr>\n",
       "    <tr>\n",
       "      <th>55521</th>\n",
       "      <td>Desconegut</td>\n",
       "      <td>Desconegut</td>\n",
       "      <td>-1.0</td>\n",
       "      <td>-1.0</td>\n",
       "      <td>NaN</td>\n",
       "      <td>NaN</td>\n",
       "    </tr>\n",
       "    <tr>\n",
       "      <th>55522</th>\n",
       "      <td>Desconegut</td>\n",
       "      <td>Desconegut</td>\n",
       "      <td>-1.0</td>\n",
       "      <td>-1.0</td>\n",
       "      <td>NaN</td>\n",
       "      <td>NaN</td>\n",
       "    </tr>\n",
       "    <tr>\n",
       "      <th>55523</th>\n",
       "      <td>Desconegut</td>\n",
       "      <td>Desconegut</td>\n",
       "      <td>-1.0</td>\n",
       "      <td>-1.0</td>\n",
       "      <td>NaN</td>\n",
       "      <td>NaN</td>\n",
       "    </tr>\n",
       "    <tr>\n",
       "      <th>55524</th>\n",
       "      <td>Desconegut</td>\n",
       "      <td>Desconegut</td>\n",
       "      <td>-1.0</td>\n",
       "      <td>-1.0</td>\n",
       "      <td>NaN</td>\n",
       "      <td>NaN</td>\n",
       "    </tr>\n",
       "    <tr>\n",
       "      <th>55525</th>\n",
       "      <td>Desconegut</td>\n",
       "      <td>Desconegut</td>\n",
       "      <td>-1.0</td>\n",
       "      <td>-1.0</td>\n",
       "      <td>NaN</td>\n",
       "      <td>NaN</td>\n",
       "    </tr>\n",
       "    <tr>\n",
       "      <th>55526</th>\n",
       "      <td>Desconegut</td>\n",
       "      <td>Desconegut</td>\n",
       "      <td>-1.0</td>\n",
       "      <td>-1.0</td>\n",
       "      <td>NaN</td>\n",
       "      <td>NaN</td>\n",
       "    </tr>\n",
       "    <tr>\n",
       "      <th>56660</th>\n",
       "      <td>Desconegut</td>\n",
       "      <td>Desconegut</td>\n",
       "      <td>-1.0</td>\n",
       "      <td>-1.0</td>\n",
       "      <td>NaN</td>\n",
       "      <td>NaN</td>\n",
       "    </tr>\n",
       "    <tr>\n",
       "      <th>57819</th>\n",
       "      <td>Desconegut</td>\n",
       "      <td>Desconegut</td>\n",
       "      <td>-1.0</td>\n",
       "      <td>-1.0</td>\n",
       "      <td>NaN</td>\n",
       "      <td>NaN</td>\n",
       "    </tr>\n",
       "    <tr>\n",
       "      <th>57820</th>\n",
       "      <td>Desconegut</td>\n",
       "      <td>Desconegut</td>\n",
       "      <td>-1.0</td>\n",
       "      <td>-1.0</td>\n",
       "      <td>NaN</td>\n",
       "      <td>NaN</td>\n",
       "    </tr>\n",
       "    <tr>\n",
       "      <th>57821</th>\n",
       "      <td>Desconegut</td>\n",
       "      <td>Desconegut</td>\n",
       "      <td>-1.0</td>\n",
       "      <td>-1.0</td>\n",
       "      <td>NaN</td>\n",
       "      <td>NaN</td>\n",
       "    </tr>\n",
       "    <tr>\n",
       "      <th>57822</th>\n",
       "      <td>Desconegut</td>\n",
       "      <td>Desconegut</td>\n",
       "      <td>-1.0</td>\n",
       "      <td>-1.0</td>\n",
       "      <td>NaN</td>\n",
       "      <td>NaN</td>\n",
       "    </tr>\n",
       "    <tr>\n",
       "      <th>58944</th>\n",
       "      <td>Desconegut</td>\n",
       "      <td>Desconegut</td>\n",
       "      <td>-1.0</td>\n",
       "      <td>-1.0</td>\n",
       "      <td>NaN</td>\n",
       "      <td>NaN</td>\n",
       "    </tr>\n",
       "    <tr>\n",
       "      <th>58945</th>\n",
       "      <td>Desconegut</td>\n",
       "      <td>Desconegut</td>\n",
       "      <td>-1.0</td>\n",
       "      <td>-1.0</td>\n",
       "      <td>NaN</td>\n",
       "      <td>NaN</td>\n",
       "    </tr>\n",
       "    <tr>\n",
       "      <th>58946</th>\n",
       "      <td>Desconegut</td>\n",
       "      <td>Desconegut</td>\n",
       "      <td>-1.0</td>\n",
       "      <td>-1.0</td>\n",
       "      <td>NaN</td>\n",
       "      <td>NaN</td>\n",
       "    </tr>\n",
       "    <tr>\n",
       "      <th>58947</th>\n",
       "      <td>Desconegut</td>\n",
       "      <td>Desconegut</td>\n",
       "      <td>-1.0</td>\n",
       "      <td>-1.0</td>\n",
       "      <td>NaN</td>\n",
       "      <td>NaN</td>\n",
       "    </tr>\n",
       "    <tr>\n",
       "      <th>58948</th>\n",
       "      <td>Desconegut</td>\n",
       "      <td>Desconegut</td>\n",
       "      <td>-1.0</td>\n",
       "      <td>-1.0</td>\n",
       "      <td>NaN</td>\n",
       "      <td>NaN</td>\n",
       "    </tr>\n",
       "    <tr>\n",
       "      <th>58949</th>\n",
       "      <td>Desconegut</td>\n",
       "      <td>Desconegut</td>\n",
       "      <td>-1.0</td>\n",
       "      <td>-1.0</td>\n",
       "      <td>NaN</td>\n",
       "      <td>NaN</td>\n",
       "    </tr>\n",
       "  </tbody>\n",
       "</table>\n",
       "</div>"
      ],
      "text/plain": [
       "        Nom_barri  Nom_carrer  Coordenada_UTM_X_ED50  Coordenada_UTM_Y_ED50  Longitud  Latitud\n",
       "52129  Desconegut  Desconegut                   -1.0                   -1.0       NaN      NaN\n",
       "52130  Desconegut  Desconegut                   -1.0                   -1.0       NaN      NaN\n",
       "52131  Desconegut  Desconegut                   -1.0                   -1.0       NaN      NaN\n",
       "52132  Desconegut  Desconegut                   -1.0                   -1.0       NaN      NaN\n",
       "52133  Desconegut  Desconegut                   -1.0                   -1.0       NaN      NaN\n",
       "52134  Desconegut  Desconegut                   -1.0                   -1.0       NaN      NaN\n",
       "52135  Desconegut  Desconegut                   -1.0                   -1.0       NaN      NaN\n",
       "53298  Desconegut  Desconegut                   -1.0                   -1.0       NaN      NaN\n",
       "53299  Desconegut  Desconegut                   -1.0                   -1.0       NaN      NaN\n",
       "54395  Desconegut  Desconegut                   -1.0                   -1.0       NaN      NaN\n",
       "54396  Desconegut  Desconegut                   -1.0                   -1.0       NaN      NaN\n",
       "54397  Desconegut  Desconegut                   -1.0                   -1.0       NaN      NaN\n",
       "54398  Desconegut  Desconegut                   -1.0                   -1.0       NaN      NaN\n",
       "55521  Desconegut  Desconegut                   -1.0                   -1.0       NaN      NaN\n",
       "55522  Desconegut  Desconegut                   -1.0                   -1.0       NaN      NaN\n",
       "55523  Desconegut  Desconegut                   -1.0                   -1.0       NaN      NaN\n",
       "55524  Desconegut  Desconegut                   -1.0                   -1.0       NaN      NaN\n",
       "55525  Desconegut  Desconegut                   -1.0                   -1.0       NaN      NaN\n",
       "55526  Desconegut  Desconegut                   -1.0                   -1.0       NaN      NaN\n",
       "56660  Desconegut  Desconegut                   -1.0                   -1.0       NaN      NaN\n",
       "57819  Desconegut  Desconegut                   -1.0                   -1.0       NaN      NaN\n",
       "57820  Desconegut  Desconegut                   -1.0                   -1.0       NaN      NaN\n",
       "57821  Desconegut  Desconegut                   -1.0                   -1.0       NaN      NaN\n",
       "57822  Desconegut  Desconegut                   -1.0                   -1.0       NaN      NaN\n",
       "58944  Desconegut  Desconegut                   -1.0                   -1.0       NaN      NaN\n",
       "58945  Desconegut  Desconegut                   -1.0                   -1.0       NaN      NaN\n",
       "58946  Desconegut  Desconegut                   -1.0                   -1.0       NaN      NaN\n",
       "58947  Desconegut  Desconegut                   -1.0                   -1.0       NaN      NaN\n",
       "58948  Desconegut  Desconegut                   -1.0                   -1.0       NaN      NaN\n",
       "58949  Desconegut  Desconegut                   -1.0                   -1.0       NaN      NaN"
      ]
     },
     "execution_count": 76,
     "metadata": {},
     "output_type": "execute_result"
    }
   ],
   "source": [
    "drop_mask = (accid[\"Coordenada_UTM_X_ED50\"] == -1) | (accid[\"Coordenada_UTM_Y_ED50\"] == -1)\n",
    "accid[drop_mask][[\"Nom_barri\", \"Nom_carrer\",\"Coordenada_UTM_X_ED50\", \"Coordenada_UTM_Y_ED50\", \"Longitud\",\t\"Latitud\"]].head(30)\n"
   ]
  },
  {
   "cell_type": "code",
   "execution_count": 77,
   "id": "80d5aaeb-d152-4533-99ec-a9aa503e0ad5",
   "metadata": {},
   "outputs": [
    {
     "name": "stdout",
     "output_type": "stream",
     "text": [
      "Dataset Without neighborhoods with NaNs has 69325 rows with 20 columns.\n"
     ]
    }
   ],
   "source": [
    "accid.drop(accid[drop_mask].index, inplace = True)\n",
    "print(\"Dataset Without neighborhoods with NaNs has {} rows with {} columns.\".format(accid.shape[0],accid.shape[1]))"
   ]
  },
  {
   "cell_type": "markdown",
   "id": "5d2226c7-8d0c-487f-815f-ef7ae9a8e31c",
   "metadata": {},
   "source": [
    "<span style='color:red'> Vegem si tenim dades geogràfiques als barris desconeguts.<br> </span><span style='color:green'> Veamos si tenemos datos geograficos en los barrios desconocidos. <br></span><span style='color:blue'> Let's see if we have geographic data in the unknown neighborhoods. <br></span>"
   ]
  },
  {
   "cell_type": "code",
   "execution_count": 78,
   "id": "4e838a12-0eed-46d2-bda6-3539a4377ff8",
   "metadata": {},
   "outputs": [
    {
     "data": {
      "text/html": [
       "<div>\n",
       "<style scoped>\n",
       "    .dataframe tbody tr th:only-of-type {\n",
       "        vertical-align: middle;\n",
       "    }\n",
       "\n",
       "    .dataframe tbody tr th {\n",
       "        vertical-align: top;\n",
       "    }\n",
       "\n",
       "    .dataframe thead th {\n",
       "        text-align: right;\n",
       "    }\n",
       "</style>\n",
       "<table border=\"1\" class=\"dataframe\">\n",
       "  <thead>\n",
       "    <tr style=\"text-align: right;\">\n",
       "      <th></th>\n",
       "      <th>Nom_barri</th>\n",
       "      <th>Nom_carrer</th>\n",
       "      <th>Coordenada_UTM_X_ED50</th>\n",
       "      <th>Coordenada_UTM_Y_ED50</th>\n",
       "      <th>Longitud</th>\n",
       "      <th>Latitud</th>\n",
       "    </tr>\n",
       "  </thead>\n",
       "  <tbody>\n",
       "    <tr>\n",
       "      <th>1281</th>\n",
       "      <td>Desconegut</td>\n",
       "      <td>Desconegut</td>\n",
       "      <td>426830.03</td>\n",
       "      <td>4576250.78</td>\n",
       "      <td>2.124450</td>\n",
       "      <td>41.332574</td>\n",
       "    </tr>\n",
       "    <tr>\n",
       "      <th>1</th>\n",
       "      <td>Desconegut</td>\n",
       "      <td>ALMIRALL CERVERA / Sevilla                    ...</td>\n",
       "      <td>432316.21</td>\n",
       "      <td>4581276.81</td>\n",
       "      <td>2.154737</td>\n",
       "      <td>41.376367</td>\n",
       "    </tr>\n",
       "    <tr>\n",
       "      <th>2</th>\n",
       "      <td>Desconegut</td>\n",
       "      <td>NÚMERO 3 / E                                  ...</td>\n",
       "      <td>427265.97</td>\n",
       "      <td>4576644.81</td>\n",
       "      <td>2.157427</td>\n",
       "      <td>41.381284</td>\n",
       "    </tr>\n",
       "    <tr>\n",
       "      <th>3</th>\n",
       "      <td>Desconegut</td>\n",
       "      <td>RDA DALT (BESÒS)                              ...</td>\n",
       "      <td>424991.14</td>\n",
       "      <td>4581760.18</td>\n",
       "      <td>2.157427</td>\n",
       "      <td>41.381284</td>\n",
       "    </tr>\n",
       "    <tr>\n",
       "      <th>0</th>\n",
       "      <td>Desconegut</td>\n",
       "      <td>NÚMERO 6 / A                                  ...</td>\n",
       "      <td>427519.99</td>\n",
       "      <td>4575229.36</td>\n",
       "      <td>2.165891</td>\n",
       "      <td>41.375166</td>\n",
       "    </tr>\n",
       "  </tbody>\n",
       "</table>\n",
       "</div>"
      ],
      "text/plain": [
       "       Nom_barri                                         Nom_carrer  Coordenada_UTM_X_ED50  Coordenada_UTM_Y_ED50  \\\n",
       "1281  Desconegut                                         Desconegut              426830.03             4576250.78   \n",
       "1     Desconegut  ALMIRALL CERVERA / Sevilla                    ...              432316.21             4581276.81   \n",
       "2     Desconegut  NÚMERO 3 / E                                  ...              427265.97             4576644.81   \n",
       "3     Desconegut  RDA DALT (BESÒS)                              ...              424991.14             4581760.18   \n",
       "0     Desconegut  NÚMERO 6 / A                                  ...              427519.99             4575229.36   \n",
       "\n",
       "      Longitud    Latitud  \n",
       "1281  2.124450  41.332574  \n",
       "1     2.154737  41.376367  \n",
       "2     2.157427  41.381284  \n",
       "3     2.157427  41.381284  \n",
       "0     2.165891  41.375166  "
      ]
     },
     "execution_count": 78,
     "metadata": {},
     "output_type": "execute_result"
    }
   ],
   "source": [
    "drop_mask = (accid[\"Codi_barri\"] == -1) \n",
    "accid[drop_mask][[\"Nom_barri\", \"Nom_carrer\",\"Coordenada_UTM_X_ED50\", \"Coordenada_UTM_Y_ED50\", \"Longitud\",\t\"Latitud\"]].head(5).sort_values(by=\"Longitud\")\n"
   ]
  },
  {
   "cell_type": "code",
   "execution_count": 79,
   "id": "99ebeb71-33c4-474b-870d-3cb336af8568",
   "metadata": {},
   "outputs": [
    {
     "data": {
      "text/html": [
       "<div>\n",
       "<style scoped>\n",
       "    .dataframe tbody tr th:only-of-type {\n",
       "        vertical-align: middle;\n",
       "    }\n",
       "\n",
       "    .dataframe tbody tr th {\n",
       "        vertical-align: top;\n",
       "    }\n",
       "\n",
       "    .dataframe thead th {\n",
       "        text-align: right;\n",
       "    }\n",
       "</style>\n",
       "<table border=\"1\" class=\"dataframe\">\n",
       "  <thead>\n",
       "    <tr style=\"text-align: right;\">\n",
       "      <th></th>\n",
       "      <th>Nom_barri</th>\n",
       "      <th>Nom_carrer</th>\n",
       "      <th>Coordenada_UTM_X_ED50</th>\n",
       "      <th>Coordenada_UTM_Y_ED50</th>\n",
       "      <th>Longitud</th>\n",
       "      <th>Latitud</th>\n",
       "    </tr>\n",
       "  </thead>\n",
       "  <tbody>\n",
       "    <tr>\n",
       "      <th>68190</th>\n",
       "      <td>Desconegut</td>\n",
       "      <td>Augusta                                       ...</td>\n",
       "      <td>426355.48</td>\n",
       "      <td>4584211.14</td>\n",
       "      <td>2.117812</td>\n",
       "      <td>41.404227</td>\n",
       "    </tr>\n",
       "    <tr>\n",
       "      <th>68193</th>\n",
       "      <td>Desconegut</td>\n",
       "      <td>Joan XXIII                                    ...</td>\n",
       "      <td>426451.50</td>\n",
       "      <td>4581657.08</td>\n",
       "      <td>2.119271</td>\n",
       "      <td>41.381232</td>\n",
       "    </tr>\n",
       "    <tr>\n",
       "      <th>68774</th>\n",
       "      <td>Desconegut</td>\n",
       "      <td>Arístides Maillol / Cardenal Reig             ...</td>\n",
       "      <td>426465.56</td>\n",
       "      <td>4581445.06</td>\n",
       "      <td>2.119465</td>\n",
       "      <td>41.379324</td>\n",
       "    </tr>\n",
       "    <tr>\n",
       "      <th>68191</th>\n",
       "      <td>Desconegut</td>\n",
       "      <td>Corts / Comte de Güell                        ...</td>\n",
       "      <td>426676.50</td>\n",
       "      <td>4581334.04</td>\n",
       "      <td>2.122001</td>\n",
       "      <td>41.378343</td>\n",
       "    </tr>\n",
       "    <tr>\n",
       "      <th>68192</th>\n",
       "      <td>Desconegut</td>\n",
       "      <td>Guipúscoa                                     ...</td>\n",
       "      <td>433835.76</td>\n",
       "      <td>4586344.61</td>\n",
       "      <td>2.207062</td>\n",
       "      <td>41.424093</td>\n",
       "    </tr>\n",
       "  </tbody>\n",
       "</table>\n",
       "</div>"
      ],
      "text/plain": [
       "        Nom_barri                                         Nom_carrer  Coordenada_UTM_X_ED50  Coordenada_UTM_Y_ED50  \\\n",
       "68190  Desconegut  Augusta                                       ...              426355.48             4584211.14   \n",
       "68193  Desconegut  Joan XXIII                                    ...              426451.50             4581657.08   \n",
       "68774  Desconegut  Arístides Maillol / Cardenal Reig             ...              426465.56             4581445.06   \n",
       "68191  Desconegut  Corts / Comte de Güell                        ...              426676.50             4581334.04   \n",
       "68192  Desconegut  Guipúscoa                                     ...              433835.76             4586344.61   \n",
       "\n",
       "       Longitud    Latitud  \n",
       "68190  2.117812  41.404227  \n",
       "68193  2.119271  41.381232  \n",
       "68774  2.119465  41.379324  \n",
       "68191  2.122001  41.378343  \n",
       "68192  2.207062  41.424093  "
      ]
     },
     "execution_count": 79,
     "metadata": {},
     "output_type": "execute_result"
    }
   ],
   "source": [
    "accid[drop_mask][[\"Nom_barri\", \"Nom_carrer\",\"Coordenada_UTM_X_ED50\", \"Coordenada_UTM_Y_ED50\", \"Longitud\",\t\"Latitud\"]].tail(5).sort_values(by=\"Longitud\")"
   ]
  },
  {
   "cell_type": "code",
   "execution_count": 80,
   "id": "a706ba5a-eda1-4bb6-847d-e297600d1367",
   "metadata": {},
   "outputs": [],
   "source": [
    "#Create a copy of records with unkown neighborhoods\n",
    "\n",
    "unkown_barris = accid[drop_mask]\n",
    "unkown_barris.shape\n",
    "#remove records with with unkown neighborhoods from original data set.\n",
    "accid.drop(accid[drop_mask].index, inplace = True)"
   ]
  },
  {
   "cell_type": "markdown",
   "id": "2b548267-2e34-4790-b4ae-e4edfdb5be72",
   "metadata": {},
   "source": [
    "<span style='color:red'> Intentarem inferir els noms i els codis dels barris a partir de les coordenades UTM i d'un shapefile amb els barris de la ciutat.<br> </span><span style='color:green'> Intentaremos inferir los nombres y códigos de los barrios a partir de las coordenadas UTM y de un shapefile con los barrios de la ciudad.<br></span><span style='color:blue'> We will try to infer the names and codes of the neighborhoods from the UTM coordinates and a shapefile with the city's neighborhoods. <br></span>"
   ]
  },
  {
   "cell_type": "code",
   "execution_count": 81,
   "id": "c8467b5b",
   "metadata": {},
   "outputs": [
    {
     "name": "stdout",
     "output_type": "stream",
     "text": [
      "The coordinate reference system for this shapefile is EPSG:25831\n"
     ]
    }
   ],
   "source": [
    "import geopandas as gpd\n",
    "bcn_barris_shapes = gpd.read_file('/home/luis/Documentos/python/jump2digital/data/shapefiles/bcn_barris', encoding='utf-8')\n",
    "print(\"The coordinate reference system for this shapefile is {}\".format(bcn_barris_shapes.crs))"
   ]
  },
  {
   "cell_type": "code",
   "execution_count": 82,
   "id": "edd7b2df-6449-48f5-9de9-95f03ea69ca8",
   "metadata": {},
   "outputs": [],
   "source": [
    "#let's simplify shapefile to hold only fields interesting for this job.\n",
    "bcn_barris_shapes = bcn_barris_shapes[[ 'DISTRICTE', 'BARRI', 'NOM', 'geometry']]"
   ]
  },
  {
   "cell_type": "code",
   "execution_count": 83,
   "id": "14fd81d8-7941-40fb-8f54-41258e0f5a7c",
   "metadata": {},
   "outputs": [
    {
     "name": "stderr",
     "output_type": "stream",
     "text": [
      "/tmp/ipykernel_10685/2452988879.py:2: SettingWithCopyWarning: \n",
      "A value is trying to be set on a copy of a slice from a DataFrame.\n",
      "Try using .loc[row_indexer,col_indexer] = value instead\n",
      "\n",
      "See the caveats in the documentation: https://pandas.pydata.org/pandas-docs/stable/user_guide/indexing.html#returning-a-view-versus-a-copy\n",
      "  unkown_barris.loc[:,\"geometry\"] = gpd.GeoSeries.from_xy(x=unkown_barris.Coordenada_UTM_X_ED50, y=unkown_barris.Coordenada_UTM_Y_ED50, crs=\"EPSG:25831\")\n"
     ]
    },
    {
     "data": {
      "text/plain": [
       "(471, 21)"
      ]
     },
     "execution_count": 83,
     "metadata": {},
     "output_type": "execute_result"
    }
   ],
   "source": [
    "#with utm coordinates create a POINT() as the geometry field\n",
    "unkown_barris.loc[:,\"geometry\"] = gpd.GeoSeries.from_xy(x=unkown_barris.Coordenada_UTM_X_ED50, y=unkown_barris.Coordenada_UTM_Y_ED50, crs=\"EPSG:25831\")\n",
    "#Transform DataFrame into a GeoDataFrame\n",
    "geo_unkown_barris = gpd.GeoDataFrame(unkown_barris, geometry='geometry')\n",
    "geo_unkown_barris.shape"
   ]
  },
  {
   "cell_type": "code",
   "execution_count": 84,
   "id": "fedacaf3-a3da-4670-bc4e-8e54b47e53dc",
   "metadata": {},
   "outputs": [
    {
     "data": {
      "text/plain": [
       "(434, 25)"
      ]
     },
     "execution_count": 84,
     "metadata": {},
     "output_type": "execute_result"
    }
   ],
   "source": [
    "#Look for shapes that contain the accident geo point. It mades a left join, regularly resulti less records cause some of them do not fit in any shape.\n",
    "found_barris=gpd.sjoin(geo_unkown_barris, bcn_barris_shapes, predicate = 'within')\n",
    "found_barris.shape\n"
   ]
  },
  {
   "cell_type": "markdown",
   "id": "10386c94-9ffc-4e71-a7d7-1a42aa5d7a8d",
   "metadata": {},
   "source": [
    "<span style='color:red'> Hem tingut èxit amb 434 registres d'accidents..<br> </span><span style='color:green'> Hemos tenido éxito con 434 registros de accidentes.<br></span><span style='color:blue'> We have been successful with 434 accident records. <br></span>"
   ]
  },
  {
   "cell_type": "code",
   "execution_count": 85,
   "id": "0f9c7414-0785-4cb2-94f0-b8258b432a98",
   "metadata": {},
   "outputs": [
    {
     "data": {
      "text/plain": [
       "(434, 20)"
      ]
     },
     "execution_count": 85,
     "metadata": {},
     "output_type": "execute_result"
    }
   ],
   "source": [
    "#Copy information from Shapefile's fields to correspondign accid-dataset's field\n",
    "found_barris[\"Codi_districte\"]=found_barris[\"DISTRICTE\"]\n",
    "found_barris[\"Codi_barri\"]=found_barris[\"BARRI\"]\n",
    "found_barris[\"Nom_barri\"]=found_barris[\"NOM\"]\n",
    "#remove joined columns\n",
    "found_barris.drop(\"geometry\", axis=1, inplace=True)\n",
    "found_barris.drop(\"index_right\", axis=1, inplace=True)\n",
    "found_barris.drop(\"DISTRICTE\", axis=1, inplace=True)\n",
    "found_barris.drop(\"BARRI\", axis=1, inplace=True)\n",
    "found_barris.drop(\"NOM\", axis=1, inplace=True)\n",
    "\n",
    "found_barris.shape\n"
   ]
  },
  {
   "cell_type": "code",
   "execution_count": 86,
   "id": "c5481016-50c2-4974-96a7-052459ec1279",
   "metadata": {},
   "outputs": [],
   "source": [
    "#append recovered data into the original dataset.\n",
    "accid = pd.concat([accid, found_barris], ignore_index=True)\n"
   ]
  },
  {
   "cell_type": "code",
   "execution_count": 87,
   "id": "ef321a2b-a45f-4833-91be-2b9bce7566da",
   "metadata": {},
   "outputs": [
    {
     "name": "stdout",
     "output_type": "stream",
     "text": [
      "|Numero_expedient = 0| |Codi_districte = 0| |Nom_districte = 0| |Codi_barri = 0| |Nom_barri = 0| |Codi_carrer = 579| |Nom_carrer = 0| |Num_postal  = 0|\n",
      "|Descripcio_dia_setmana = 0| |NK_Any = 0| |Mes_any = 0| |Nom_mes = 0| |Dia_mes = 0| |Hora_dia = 0| |Causa = 0| |Torn = 0|\n",
      "|Coordenada_UTM_X_ED50 = 0| |Coordenada_UTM_Y_ED50 = 0| |Longitud = 0| "
     ]
    }
   ],
   "source": [
    "minus_one(accid)\n"
   ]
  },
  {
   "cell_type": "code",
   "execution_count": 88,
   "id": "ad2e4357-2bf4-4d60-ad5f-93b410a7fd52",
   "metadata": {},
   "outputs": [
    {
     "name": "stdout",
     "output_type": "stream",
     "text": [
      "Dataset Without neighborhoods with NaNs has 69288 rows with 20 columns.\n"
     ]
    }
   ],
   "source": [
    "print(\"Dataset Without neighborhoods with NaNs has {} rows with {} columns.\".format(accid.shape[0],accid.shape[1]))"
   ]
  },
  {
   "cell_type": "markdown",
   "id": "f4902eb5-dddc-496d-bc20-f3082f206b63",
   "metadata": {},
   "source": [
    "### <span style='color:red'> Agregació trimestral dels accidents<br> </span><span style='color:green'> Agregación trimestral de los accidentes <br></span><span style='color:blue'> Quarterly aggregation of accidents <br></span>"
   ]
  },
  {
   "cell_type": "code",
   "execution_count": 89,
   "id": "8676f583-d34f-4322-be9f-ae3b28c776c8",
   "metadata": {},
   "outputs": [],
   "source": [
    "#Create a column for quarters\n",
    "accid=accid.assign(\n",
    "    Trimestre=accid[[\"Mes_any\"]].apply(\n",
    "        lambda row: ((row -1)//3)+1),axis=1)\n",
    "#create a key column to merge the results into the price table\n",
    "accid=accid.assign(\n",
    "    Clau=accid[[\"Codi_barri\", \"NK_Any\", \"Trimestre\"]].apply(\n",
    "        lambda row: ''.join([str(each) for each in row]),axis=1))"
   ]
  },
  {
   "cell_type": "code",
   "execution_count": 90,
   "id": "ab3a21fb-333b-4c54-b08d-fd700c20d46a",
   "metadata": {},
   "outputs": [
    {
     "name": "stdout",
     "output_type": "stream",
     "text": [
      "|Numero_expedient = 0| |Codi_districte = 0| |Nom_districte = 0| |Codi_barri = 0| |Nom_barri = 0| |Codi_carrer = 0| |Nom_carrer = 1| |Num_postal  = 15|\n",
      "|Descripcio_dia_setmana = 0| |NK_Any = 0| |Mes_any = 0| |Nom_mes = 0| |Dia_mes = 0| |Hora_dia = 0| |Causa = 0| |Torn = 0|\n",
      "|Coordenada_UTM_X_ED50 = 0| |Coordenada_UTM_Y_ED50 = 0| |Longitud = 0| |Latitud = 0| |Trimestre = 0| |axis = 0| |Clau = 0| "
     ]
    }
   ],
   "source": [
    "count_NAN(accid)"
   ]
  },
  {
   "cell_type": "code",
   "execution_count": 91,
   "id": "9bbe6625-248c-4196-9748-34f1b6cb826e",
   "metadata": {},
   "outputs": [],
   "source": [
    "grouped_accid = accid.groupby(\"Clau\",group_keys=False)\n",
    "counted_quarter = grouped_accid.size()"
   ]
  },
  {
   "cell_type": "code",
   "execution_count": 92,
   "id": "472785af-ca16-47ef-8fdf-38284a91e013",
   "metadata": {},
   "outputs": [],
   "source": [
    "grouped_accid = accid.groupby([\"Clau\",\"Torn\"],group_keys=False)\n",
    "counted_quarted_torn = grouped_accid.size().unstack()"
   ]
  },
  {
   "cell_type": "code",
   "execution_count": 93,
   "id": "cfccd037-5d9c-4380-97f5-827167b3ad86",
   "metadata": {},
   "outputs": [],
   "source": [
    "counted_quarted_torn.fillna(0, inplace=True)"
   ]
  },
  {
   "cell_type": "code",
   "execution_count": 94,
   "id": "7d4c967a-7922-4f1f-92f8-c9741152ddb9",
   "metadata": {},
   "outputs": [],
   "source": [
    "mat = [x[0] for x in counted_quarted_torn.values]\n",
    "nit = [x[1] for x in counted_quarted_torn.values]\n",
    "tar = [x[2] for x in counted_quarted_torn.values]\n",
    "mat_perc = [x[0]/sum(x) for x in counted_quarted_torn.values]\n",
    "nit_perc = [x[1]/sum(x) for x in counted_quarted_torn.values]\n",
    "tar_perc = [x[2]/sum(x) for x in counted_quarted_torn.values]"
   ]
  },
  {
   "cell_type": "code",
   "execution_count": 95,
   "id": "9f3c69a0-74e8-471a-ac14-79614acde69e",
   "metadata": {},
   "outputs": [],
   "source": [
    "accidents_by_quarter_and_torn=pd.DataFrame({\"Clau\":counted_quarter.index, \\\n",
    "                                             \"Accidents\":counted_quarter.values, \\\n",
    "                                             \"Mat\":mat, \\\n",
    "                                             \"Tar\":tar, \\\n",
    "                                             \"Nit\":nit, \\\n",
    "                                             \"Mat_P\":mat_perc, \\\n",
    "                                             \"Tar_p\":tar_perc, \\\n",
    "                                             \"Nit_p\":nit_perc,})"
   ]
  },
  {
   "cell_type": "code",
   "execution_count": 96,
   "id": "e5f22b1c-dfe1-4188-afcc-5c5bcd998e8b",
   "metadata": {},
   "outputs": [
    {
     "data": {
      "text/html": [
       "<div>\n",
       "<style scoped>\n",
       "    .dataframe tbody tr th:only-of-type {\n",
       "        vertical-align: middle;\n",
       "    }\n",
       "\n",
       "    .dataframe tbody tr th {\n",
       "        vertical-align: top;\n",
       "    }\n",
       "\n",
       "    .dataframe thead th {\n",
       "        text-align: right;\n",
       "    }\n",
       "</style>\n",
       "<table border=\"1\" class=\"dataframe\">\n",
       "  <thead>\n",
       "    <tr style=\"text-align: right;\">\n",
       "      <th></th>\n",
       "      <th>Clau</th>\n",
       "      <th>Accidents</th>\n",
       "      <th>Mat</th>\n",
       "      <th>Tar</th>\n",
       "      <th>Nit</th>\n",
       "      <th>Mat_P</th>\n",
       "      <th>Tar_p</th>\n",
       "      <th>Nit_p</th>\n",
       "    </tr>\n",
       "  </thead>\n",
       "  <tbody>\n",
       "    <tr>\n",
       "      <th>0</th>\n",
       "      <td>0320163</td>\n",
       "      <td>1</td>\n",
       "      <td>1.0</td>\n",
       "      <td>0.0</td>\n",
       "      <td>0.0</td>\n",
       "      <td>1.000000</td>\n",
       "      <td>0.000000</td>\n",
       "      <td>0.000000</td>\n",
       "    </tr>\n",
       "    <tr>\n",
       "      <th>1</th>\n",
       "      <td>0320193</td>\n",
       "      <td>1</td>\n",
       "      <td>0.0</td>\n",
       "      <td>1.0</td>\n",
       "      <td>0.0</td>\n",
       "      <td>0.000000</td>\n",
       "      <td>1.000000</td>\n",
       "      <td>0.000000</td>\n",
       "    </tr>\n",
       "    <tr>\n",
       "      <th>2</th>\n",
       "      <td>0420173</td>\n",
       "      <td>1</td>\n",
       "      <td>0.0</td>\n",
       "      <td>1.0</td>\n",
       "      <td>0.0</td>\n",
       "      <td>0.000000</td>\n",
       "      <td>1.000000</td>\n",
       "      <td>0.000000</td>\n",
       "    </tr>\n",
       "    <tr>\n",
       "      <th>3</th>\n",
       "      <td>0420182</td>\n",
       "      <td>1</td>\n",
       "      <td>0.0</td>\n",
       "      <td>1.0</td>\n",
       "      <td>0.0</td>\n",
       "      <td>0.000000</td>\n",
       "      <td>1.000000</td>\n",
       "      <td>0.000000</td>\n",
       "    </tr>\n",
       "    <tr>\n",
       "      <th>4</th>\n",
       "      <td>0420183</td>\n",
       "      <td>1</td>\n",
       "      <td>1.0</td>\n",
       "      <td>0.0</td>\n",
       "      <td>0.0</td>\n",
       "      <td>1.000000</td>\n",
       "      <td>0.000000</td>\n",
       "      <td>0.000000</td>\n",
       "    </tr>\n",
       "    <tr>\n",
       "      <th>...</th>\n",
       "      <td>...</td>\n",
       "      <td>...</td>\n",
       "      <td>...</td>\n",
       "      <td>...</td>\n",
       "      <td>...</td>\n",
       "      <td>...</td>\n",
       "      <td>...</td>\n",
       "      <td>...</td>\n",
       "    </tr>\n",
       "    <tr>\n",
       "      <th>2041</th>\n",
       "      <td>920214</td>\n",
       "      <td>95</td>\n",
       "      <td>37.0</td>\n",
       "      <td>44.0</td>\n",
       "      <td>14.0</td>\n",
       "      <td>0.389474</td>\n",
       "      <td>0.463158</td>\n",
       "      <td>0.147368</td>\n",
       "    </tr>\n",
       "    <tr>\n",
       "      <th>2042</th>\n",
       "      <td>920221</td>\n",
       "      <td>72</td>\n",
       "      <td>27.0</td>\n",
       "      <td>35.0</td>\n",
       "      <td>10.0</td>\n",
       "      <td>0.375000</td>\n",
       "      <td>0.486111</td>\n",
       "      <td>0.138889</td>\n",
       "    </tr>\n",
       "    <tr>\n",
       "      <th>2043</th>\n",
       "      <td>920222</td>\n",
       "      <td>75</td>\n",
       "      <td>27.0</td>\n",
       "      <td>42.0</td>\n",
       "      <td>6.0</td>\n",
       "      <td>0.360000</td>\n",
       "      <td>0.560000</td>\n",
       "      <td>0.080000</td>\n",
       "    </tr>\n",
       "    <tr>\n",
       "      <th>2044</th>\n",
       "      <td>920223</td>\n",
       "      <td>87</td>\n",
       "      <td>37.0</td>\n",
       "      <td>35.0</td>\n",
       "      <td>15.0</td>\n",
       "      <td>0.425287</td>\n",
       "      <td>0.402299</td>\n",
       "      <td>0.172414</td>\n",
       "    </tr>\n",
       "    <tr>\n",
       "      <th>2045</th>\n",
       "      <td>920224</td>\n",
       "      <td>88</td>\n",
       "      <td>34.0</td>\n",
       "      <td>42.0</td>\n",
       "      <td>12.0</td>\n",
       "      <td>0.386364</td>\n",
       "      <td>0.477273</td>\n",
       "      <td>0.136364</td>\n",
       "    </tr>\n",
       "  </tbody>\n",
       "</table>\n",
       "<p>2046 rows × 8 columns</p>\n",
       "</div>"
      ],
      "text/plain": [
       "         Clau  Accidents   Mat   Tar   Nit     Mat_P     Tar_p     Nit_p\n",
       "0     0320163          1   1.0   0.0   0.0  1.000000  0.000000  0.000000\n",
       "1     0320193          1   0.0   1.0   0.0  0.000000  1.000000  0.000000\n",
       "2     0420173          1   0.0   1.0   0.0  0.000000  1.000000  0.000000\n",
       "3     0420182          1   0.0   1.0   0.0  0.000000  1.000000  0.000000\n",
       "4     0420183          1   1.0   0.0   0.0  1.000000  0.000000  0.000000\n",
       "...       ...        ...   ...   ...   ...       ...       ...       ...\n",
       "2041   920214         95  37.0  44.0  14.0  0.389474  0.463158  0.147368\n",
       "2042   920221         72  27.0  35.0  10.0  0.375000  0.486111  0.138889\n",
       "2043   920222         75  27.0  42.0   6.0  0.360000  0.560000  0.080000\n",
       "2044   920223         87  37.0  35.0  15.0  0.425287  0.402299  0.172414\n",
       "2045   920224         88  34.0  42.0  12.0  0.386364  0.477273  0.136364\n",
       "\n",
       "[2046 rows x 8 columns]"
      ]
     },
     "execution_count": 96,
     "metadata": {},
     "output_type": "execute_result"
    }
   ],
   "source": [
    "accidents_by_quarter_and_torn\n"
   ]
  },
  {
   "cell_type": "code",
   "execution_count": 97,
   "id": "3fcf5133-b70f-4242-9056-fa7452c36353",
   "metadata": {},
   "outputs": [
    {
     "name": "stdout",
     "output_type": "stream",
     "text": [
      "Saving preprocessed data.....\n"
     ]
    },
    {
     "data": {
      "text/plain": [
       "(2046, 8)"
      ]
     },
     "execution_count": 97,
     "metadata": {},
     "output_type": "execute_result"
    }
   ],
   "source": [
    "save_preprocessed(accidents_by_quarter_and_torn, data_folder, \"accidents_trimestrals_16_22.csv\")\n",
    "accidents_by_quarter_and_torn.shape"
   ]
  },
  {
   "cell_type": "code",
   "execution_count": null,
   "id": "d1b9c85b-ac60-43ef-a1b9-c464c1d74390",
   "metadata": {},
   "outputs": [],
   "source": []
  }
 ],
 "metadata": {
  "kernelspec": {
   "display_name": "Python 3 (ipykernel)",
   "language": "python",
   "name": "python3"
  },
  "language_info": {
   "codemirror_mode": {
    "name": "ipython",
    "version": 3
   },
   "file_extension": ".py",
   "mimetype": "text/x-python",
   "name": "python",
   "nbconvert_exporter": "python",
   "pygments_lexer": "ipython3",
   "version": "3.12.0"
  }
 },
 "nbformat": 4,
 "nbformat_minor": 5
}
