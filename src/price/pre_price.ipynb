{
 "cells": [
  {
   "cell_type": "code",
   "execution_count": 282,
   "id": "5a2f3520",
   "metadata": {},
   "outputs": [],
   "source": [
    "# **************************************************************************** #\n",
    "#                                                                              #\n",
    "#                                                         :::      ::::::::    #\n",
    "#                                                       :+:      :+:    :+:    #\n",
    "#                                                     +:+ +:+         +:+      #\n",
    "#    By: luicasad <luicasad@student.42.fr>          +#+  +:+       +#+         #\n",
    "#                                                 +#+#+#+#+#+   +#+            #\n",
    "#    Created: 2023/10/22 11:17:16 by luicasad          #+#    #+#              #\n",
    "#    Updated: 2023/10/22 11:17:24 by luicasad         ###   ########.fr        #\n",
    "#                                                                              #\n",
    "# **************************************************************************** #"
   ]
  },
  {
   "cell_type": "code",
   "execution_count": 283,
   "id": "342749c1",
   "metadata": {},
   "outputs": [],
   "source": [
    "import os\n",
    "import pandas as pd\n",
    "home_dir = os.getcwd()\n",
    "data_folder =  home_dir +'/../../data/price/'"
   ]
  },
  {
   "cell_type": "code",
   "execution_count": 284,
   "id": "ea1ca1dd",
   "metadata": {},
   "outputs": [],
   "source": [
    "def concat_files(data_folder:str, years: range, common_name:str )-> pd.DataFrame:\n",
    "\n",
    "    #For each year, \n",
    "    #   create a dataframe reading a csv file.\n",
    "    #   Append it to a list\n",
    "    #   Create a dataframe with columns count\n",
    "\n",
    "    files = []\n",
    "    counts =[]\n",
    "    for year in years:\n",
    "        file = data_folder + str(year) + common_name\n",
    "        df = pd.read_csv(file)\n",
    "        files.append(df)\n",
    "        counts.append(pd.DataFrame(data=df.count(), columns=[year]))\n",
    "    summary = pd.concat(counts, axis=1)\n",
    "    difference = summary.iloc(0)[0]-summary.iloc(0)[-1]\n",
    "    print(type(summary), type(difference))\n",
    "    print(summary)\n",
    "    print(\"-\"*80)\n",
    "    print(\"Any - Preu = NUM NaN\")\n",
    "    print(difference.to_frame().T)\n",
    "    return pd.concat(files, ignore_index=True)\n",
    "\n",
    "def count_NAN(df):\n",
    "    \"\"\"\n",
    "    Count NAN values in each column of a dataset.\n",
    "    Print 8 counts in per line\n",
    "    \"\"\"\n",
    "    col_counter = 1\n",
    "    for col in df.columns:\n",
    "        count = df[col].isna().sum()\n",
    "        if ((col_counter % 8) == 0):\n",
    "            sep = \"|\\n\"\n",
    "        else:\n",
    "            sep = \"| \"\n",
    "        print(\"|{} = {}\".format(col,count), end=sep)\n",
    "        col_counter = col_counter + 1"
   ]
  },
  {
   "cell_type": "markdown",
   "id": "3f8d2e08",
   "metadata": {},
   "source": [
    "<span style='color:red'> Llegir i concatenar fitxers de preus<br> </span><span style='color:green'> Lectura y concatenación de los archivos de precios<br></span><span style='color:blue'> Read and concatenate all prize files <br></span>"
   ]
  },
  {
   "cell_type": "code",
   "execution_count": 285,
   "id": "2d3f5cff",
   "metadata": {},
   "outputs": [
    {
     "name": "stdout",
     "output_type": "stream",
     "text": [
      "<class 'pandas.core.frame.DataFrame'> <class 'pandas.core.series.Series'>\n",
      "                2014  2015  2016  2017  2018  2019  2020  2021  2022  2023\n",
      "Any              584   584   584   584   584   584   584   584   438   292\n",
      "Trimestre        584   584   584   584   584   584   584   584   438   292\n",
      "Codi_Districte   584   584   584   584   584   584   584   584   438   292\n",
      "Nom_Districte    584   584   584   584   584   584   584   584   438   292\n",
      "Codi_Barri       584   584   584   584   584   584   584   584   438   292\n",
      "Nom_Barri        584   584   584   584   584   584   584   584   438   292\n",
      "Lloguer_mitja    584   584   584   584   584   584   584   584   438   292\n",
      "Preu             546   552   553   546   540   538   538   584   406   273\n",
      "--------------------------------------------------------------------------------\n",
      "Any - Preu = NUM NaN\n",
      "   2014  2015  2016  2017  2018  2019  2020  2021  2022  2023\n",
      "0    38    32    31    38    44    46    46     0    32    19\n"
     ]
    }
   ],
   "source": [
    "pd.set_option(\"display.width\", 120)\n",
    "price = concat_files(data_folder, range(2014, 2024),\"_lloguer_preu_trim.csv\")\n"
   ]
  },
  {
   "cell_type": "markdown",
   "id": "16d9abb8-cf5a-458d-a44f-e488c31452a8",
   "metadata": {},
   "source": [
    "<span style='color:red'> Estudi dels valors Nan<br> </span><span style='color:green'> Estudio de los valores nulos<br></span><span style='color:blue'> Study Nan values <br></span>"
   ]
  },
  {
   "cell_type": "code",
   "execution_count": 286,
   "id": "971b02a1-281b-48ce-b955-bbd9353aac69",
   "metadata": {},
   "outputs": [
    {
     "name": "stdout",
     "output_type": "stream",
     "text": [
      "|Any = 0| |Trimestre = 0| |Codi_Districte = 0| |Nom_Districte = 0| |Codi_Barri = 0| |Nom_Barri = 0| |Lloguer_mitja = 0| |Preu = 326|\n"
     ]
    }
   ],
   "source": [
    "count_NAN(price)"
   ]
  },
  {
   "cell_type": "code",
   "execution_count": 287,
   "id": "be11447e-15a7-4d2a-a8f9-e396c356b21e",
   "metadata": {},
   "outputs": [
    {
     "name": "stdout",
     "output_type": "stream",
     "text": [
      "Trimestre    1      2      3      4   sum\n",
      "2014      10.0    6.0   10.0   12.0   38.0   6.51%  \n",
      "2015      12.0    4.0    8.0    8.0   32.0   5.48%  \n",
      "2016       4.0   10.0    9.0    8.0   31.0   5.31%  \n",
      "2017      10.0    8.0   10.0   10.0   38.0   6.51%  \n",
      "2018      12.0   10.0   12.0   10.0   44.0   7.53%  \n",
      "2019      12.0   12.0   12.0   10.0   46.0   7.88%  \n",
      "2020       8.0   14.0   12.0   12.0   46.0   7.88%  \n",
      "2022      12.0   10.0   10.0    nan    nan   nan%  \n",
      "2023       9.0   10.0    nan    nan    nan   nan%  \n"
     ]
    }
   ],
   "source": [
    "grouped_df = price[price[\"Preu\"].isna()\n",
    "                  ].groupby(['Any', 'Trimestre']).size().unstack()\n",
    "pd.set_option('display.max_rows', None)\n",
    "print(\"Trimestre    1      2      3      4   sum\")\n",
    "for row in grouped_df.iterrows():\n",
    "    print(\"{}     \".format(row[0]), end=\" \")\n",
    "    suma = 0\n",
    "    for data in row[1].values:\n",
    "        print(\"{0:4}  \".format(data), end = \" \")\n",
    "        if (data != np.nan):\n",
    "            suma += data\n",
    "    print(\"{0:4}  \".format(suma), end = \" \")\n",
    "    print(\"{0:.2f}%  \".format(100*suma/584))\n",
    "\n"
   ]
  },
  {
   "cell_type": "code",
   "execution_count": 288,
   "id": "18ba13f1",
   "metadata": {},
   "outputs": [
    {
     "name": "stdout",
     "output_type": "stream",
     "text": [
      "Barris amb preus NaN ==> ['La marina del prat vermell', 'La clota', 'Torre baró', 'Vallbona', 'Baró de viver', 'Can peguera', 'Canyelles']\n"
     ]
    }
   ],
   "source": [
    "Barris_with_NaN =price[price[\"Preu\"].isna()][\"Nom_Barri\"].unique()\n",
    "Capitalized = [s.capitalize() for s in Barris_with_NaN]\n",
    "\n",
    "print(\"Barris amb preus NaN ==>\", Capitalized)\n"
   ]
  },
  {
   "cell_type": "code",
   "execution_count": 289,
   "id": "6f093bd2-79a5-445f-b34c-31b842117ec3",
   "metadata": {},
   "outputs": [
    {
     "data": {
      "text/plain": [
       "array([12, 42, 54, 56, 58, 47, 49])"
      ]
     },
     "execution_count": 289,
     "metadata": {},
     "output_type": "execute_result"
    }
   ],
   "source": [
    "price[price[\"Preu\"].isna()][\"Codi_Barri\"].unique()\n"
   ]
  },
  {
   "cell_type": "code",
   "execution_count": 290,
   "id": "31f641e4",
   "metadata": {},
   "outputs": [
    {
     "data": {
      "text/plain": [
       "array([ 1,  2,  3,  4,  5,  6,  7,  8,  9, 10, 11, 12, 13, 14, 15, 16, 17,\n",
       "       18, 19, 20, 21, 22, 23, 24, 25, 26, 27, 28, 29, 30, 31, 32, 33, 34,\n",
       "       35, 36, 37, 38, 39, 40, 41, 42, 43, 44, 45, 46, 47, 48, 49, 50, 51,\n",
       "       52, 53, 54, 55, 56, 57, 58, 59, 60, 61, 62, 63, 64, 65, 66, 67, 68,\n",
       "       69, 70, 71, 72, 73])"
      ]
     },
     "execution_count": 290,
     "metadata": {},
     "output_type": "execute_result"
    }
   ],
   "source": [
    "price[\"Codi_Barri\"].unique()"
   ]
  },
  {
   "cell_type": "code",
   "execution_count": 291,
   "id": "10e4fba3",
   "metadata": {},
   "outputs": [
    {
     "data": {
      "text/plain": [
       "array(['Lloguer mitjà mensual (Euros/mes)',\n",
       "       'Lloguer mitjà per superfície (Euros/m2 mes)'], dtype=object)"
      ]
     },
     "execution_count": 291,
     "metadata": {},
     "output_type": "execute_result"
    }
   ],
   "source": [
    "price[\"Lloguer_mitja\"].unique()"
   ]
  },
  {
   "cell_type": "code",
   "execution_count": 292,
   "id": "28e34efe",
   "metadata": {},
   "outputs": [
    {
     "name": "stdout",
     "output_type": "stream",
     "text": [
      "Lloguer_mitja  Lloguer mitjà mensual (Euros/mes)  Lloguer mitjà per superfície (Euros/m2 mes)\n",
      "Codi_Barri                                                                                   \n",
      "12                                            25                                           26\n",
      "42                                            32                                           32\n",
      "47                                            28                                           28\n",
      "49                                             3                                            3\n",
      "54                                            19                                           20\n",
      "56                                            30                                           30\n",
      "58                                            25                                           25\n"
     ]
    }
   ],
   "source": [
    "grouped_df = price[price[\"Preu\"].isna()\n",
    "                  ].groupby(['Codi_Barri', 'Lloguer_mitja']).size().unstack()\n",
    "pd.set_option('display.max_rows', None)\n",
    "print(grouped_df)"
   ]
  },
  {
   "cell_type": "markdown",
   "id": "55801482-49d7-4103-8a44-f81197e60e58",
   "metadata": {},
   "source": [
    "<span style='color:red'> Substitució dels valors Nan<br> </span><span style='color:green'> Substitución de los valores nulos<br></span><span style='color:blue'> Nan values <br></span>"
   ]
  },
  {
   "cell_type": "code",
   "execution_count": 293,
   "id": "7bf7a7f5-4ef8-475c-8cf8-fe397f974185",
   "metadata": {},
   "outputs": [
    {
     "name": "stdout",
     "output_type": "stream",
     "text": [
      "       Any  Trimestre  Codi_Districte Nom_Districte  Codi_Barri  Nom_Barri  \\\n",
      "340   2014          1               8    Nou Barris          49  Canyelles   \n",
      "413   2014          2               8    Nou Barris          49  Canyelles   \n",
      "486   2014          3               8    Nou Barris          49  Canyelles   \n",
      "559   2014          4               8    Nou Barris          49  Canyelles   \n",
      "924   2015          1               8    Nou Barris          49  Canyelles   \n",
      "997   2015          2               8    Nou Barris          49  Canyelles   \n",
      "1070  2015          3               8    Nou Barris          49  Canyelles   \n",
      "1143  2015          4               8    Nou Barris          49  Canyelles   \n",
      "1508  2016          1               8    Nou Barris          49  Canyelles   \n",
      "1581  2016          2               8    Nou Barris          49  Canyelles   \n",
      "1654  2016          3               8    Nou Barris          49  Canyelles   \n",
      "1727  2016          4               8    Nou Barris          49  Canyelles   \n",
      "2092  2017          1               8    Nou Barris          49  Canyelles   \n",
      "2165  2017          2               8    Nou Barris          49  Canyelles   \n",
      "2238  2017          3               8    Nou Barris          49  Canyelles   \n",
      "2311  2017          4               8    Nou Barris          49  Canyelles   \n",
      "2676  2018          1               8    Nou Barris          49  Canyelles   \n",
      "2749  2018          2               8    Nou Barris          49  Canyelles   \n",
      "2822  2018          3               8    Nou Barris          49  Canyelles   \n",
      "2895  2018          4               8    Nou Barris          49  Canyelles   \n",
      "3041  2019          1               8    Nou Barris          49  Canyelles   \n",
      "3187  2019          2               8    Nou Barris          49  Canyelles   \n",
      "3333  2019          3               8    Nou Barris          49  Canyelles   \n",
      "3479  2019          4               8    Nou Barris          49  Canyelles   \n",
      "3625  2020          1               8    Nou Barris          49  Canyelles   \n",
      "3771  2020          2               8    Nou Barris          49  Canyelles   \n",
      "3917  2020          3               8    Nou Barris          49  Canyelles   \n",
      "4063  2020          4               8    Nou Barris          49  Canyelles   \n",
      "4209  2021          1               8    Nou Barris          49  Canyelles   \n",
      "4355  2021          2               8    Nou Barris          49  Canyelles   \n",
      "4501  2021          3               8    Nou Barris          49  Canyelles   \n",
      "4647  2021          4               8    Nou Barris          49  Canyelles   \n",
      "4793  2022          1               8    Nou Barris          49  Canyelles   \n",
      "4939  2022          2               8    Nou Barris          49  Canyelles   \n",
      "5085  2022          3               8    Nou Barris          49  Canyelles   \n",
      "5231  2023          1               8    Nou Barris          49  Canyelles   \n",
      "5377  2023          2               8    Nou Barris          49  Canyelles   \n",
      "\n",
      "                                    Lloguer_mitja   Preu  \n",
      "340   Lloguer mitjà per superfície (Euros/m2 mes)   7.35  \n",
      "413   Lloguer mitjà per superfície (Euros/m2 mes)   5.58  \n",
      "486   Lloguer mitjà per superfície (Euros/m2 mes)   6.81  \n",
      "559   Lloguer mitjà per superfície (Euros/m2 mes)    7.7  \n",
      "924   Lloguer mitjà per superfície (Euros/m2 mes)    NaN  \n",
      "997   Lloguer mitjà per superfície (Euros/m2 mes)   7.23  \n",
      "1070  Lloguer mitjà per superfície (Euros/m2 mes)    7.0  \n",
      "1143  Lloguer mitjà per superfície (Euros/m2 mes)   7.84  \n",
      "1508  Lloguer mitjà per superfície (Euros/m2 mes)   8.03  \n",
      "1581  Lloguer mitjà per superfície (Euros/m2 mes)    8.1  \n",
      "1654  Lloguer mitjà per superfície (Euros/m2 mes)   8.45  \n",
      "1727  Lloguer mitjà per superfície (Euros/m2 mes)   7.68  \n",
      "2092  Lloguer mitjà per superfície (Euros/m2 mes)   8.05  \n",
      "2165  Lloguer mitjà per superfície (Euros/m2 mes)   8.68  \n",
      "2238  Lloguer mitjà per superfície (Euros/m2 mes)   8.79  \n",
      "2311  Lloguer mitjà per superfície (Euros/m2 mes)   8.96  \n",
      "2676  Lloguer mitjà per superfície (Euros/m2 mes)   9.02  \n",
      "2749  Lloguer mitjà per superfície (Euros/m2 mes)   9.67  \n",
      "2822  Lloguer mitjà per superfície (Euros/m2 mes)   9.11  \n",
      "2895  Lloguer mitjà per superfície (Euros/m2 mes)  10.09  \n",
      "3041  Lloguer mitjà per superfície (Euros/m2 mes)    9.6  \n",
      "3187  Lloguer mitjà per superfície (Euros/m2 mes)    9.3  \n",
      "3333  Lloguer mitjà per superfície (Euros/m2 mes)    9.5  \n",
      "3479  Lloguer mitjà per superfície (Euros/m2 mes)    9.5  \n",
      "3625  Lloguer mitjà per superfície (Euros/m2 mes)   10.1  \n",
      "3771  Lloguer mitjà per superfície (Euros/m2 mes)    NaN  \n",
      "3917  Lloguer mitjà per superfície (Euros/m2 mes)   10.2  \n",
      "4063  Lloguer mitjà per superfície (Euros/m2 mes)    9.5  \n",
      "4209  Lloguer mitjà per superfície (Euros/m2 mes)    9.3  \n",
      "4355  Lloguer mitjà per superfície (Euros/m2 mes)    8.7  \n",
      "4501  Lloguer mitjà per superfície (Euros/m2 mes)   10.0  \n",
      "4647  Lloguer mitjà per superfície (Euros/m2 mes)    9.3  \n",
      "4793  Lloguer mitjà per superfície (Euros/m2 mes)    8.0  \n",
      "4939  Lloguer mitjà per superfície (Euros/m2 mes)    9.8  \n",
      "5085  Lloguer mitjà per superfície (Euros/m2 mes)    NaN  \n",
      "5231  Lloguer mitjà per superfície (Euros/m2 mes)   10.9  \n",
      "5377  Lloguer mitjà per superfície (Euros/m2 mes)   10.9  \n"
     ]
    },
    {
     "name": "stderr",
     "output_type": "stream",
     "text": [
      "/tmp/ipykernel_61299/3136143780.py:5: SettingWithCopyWarning: \n",
      "A value is trying to be set on a copy of a slice from a DataFrame.\n",
      "Try using .loc[row_indexer,col_indexer] = value instead\n",
      "\n",
      "See the caveats in the documentation: https://pandas.pydata.org/pandas-docs/stable/user_guide/indexing.html#returning-a-view-versus-a-copy\n",
      "  price[mask_all][\"Preu\"] = price[mask_all][\"Preu\"].fillna(price[mask_all][\"Preu\"].rolling(3,min_periods=1).mean())\n"
     ]
    }
   ],
   "source": [
    "# Only for Canyelles cause it is the barri with less missed ata\n",
    "\n",
    "barri = 49\n",
    "mask_all = (price['Lloguer_mitja'] == 'Lloguer mitjà per superfície (Euros/m2 mes)') & (price[\"Codi_Barri\"] == barri)\n",
    "price[mask_all][\"Preu\"] = price[mask_all][\"Preu\"].fillna(price[mask_all][\"Preu\"].rolling(3,min_periods=1).mean())\n",
    "print(price[mask_all])"
   ]
  },
  {
   "cell_type": "code",
   "execution_count": 294,
   "id": "a8982d66",
   "metadata": {},
   "outputs": [
    {
     "name": "stdout",
     "output_type": "stream",
     "text": [
      "       Any  Trimestre  Codi_Districte Nom_Districte  Codi_Barri  Nom_Barri                      Lloguer_mitja     Preu\n",
      "48    2014          1               8    Nou Barris          49  Canyelles  Lloguer mitjà mensual (Euros/mes)   563.33\n",
      "121   2014          2               8    Nou Barris          49  Canyelles  Lloguer mitjà mensual (Euros/mes)   474.29\n",
      "194   2014          3               8    Nou Barris          49  Canyelles  Lloguer mitjà mensual (Euros/mes)   532.67\n",
      "267   2014          4               8    Nou Barris          49  Canyelles  Lloguer mitjà mensual (Euros/mes)   566.36\n",
      "632   2015          1               8    Nou Barris          49  Canyelles  Lloguer mitjà mensual (Euros/mes)  549.515\n",
      "705   2015          2               8    Nou Barris          49  Canyelles  Lloguer mitjà mensual (Euros/mes)   575.83\n",
      "778   2015          3               8    Nou Barris          49  Canyelles  Lloguer mitjà mensual (Euros/mes)    558.0\n",
      "851   2015          4               8    Nou Barris          49  Canyelles  Lloguer mitjà mensual (Euros/mes)   598.04\n",
      "1216  2016          1               8    Nou Barris          49  Canyelles  Lloguer mitjà mensual (Euros/mes)   619.85\n",
      "1289  2016          2               8    Nou Barris          49  Canyelles  Lloguer mitjà mensual (Euros/mes)   621.43\n",
      "1362  2016          3               8    Nou Barris          49  Canyelles  Lloguer mitjà mensual (Euros/mes)   648.75\n",
      "1435  2016          4               8    Nou Barris          49  Canyelles  Lloguer mitjà mensual (Euros/mes)   617.52\n",
      "1800  2017          1               8    Nou Barris          49  Canyelles  Lloguer mitjà mensual (Euros/mes)   689.62\n",
      "1873  2017          2               8    Nou Barris          49  Canyelles  Lloguer mitjà mensual (Euros/mes)    677.5\n",
      "1946  2017          3               8    Nou Barris          49  Canyelles  Lloguer mitjà mensual (Euros/mes)    701.5\n",
      "2019  2017          4               8    Nou Barris          49  Canyelles  Lloguer mitjà mensual (Euros/mes)   656.15\n",
      "2384  2018          1               8    Nou Barris          49  Canyelles  Lloguer mitjà mensual (Euros/mes)   714.68\n",
      "2457  2018          2               8    Nou Barris          49  Canyelles  Lloguer mitjà mensual (Euros/mes)   661.88\n",
      "2530  2018          3               8    Nou Barris          49  Canyelles  Lloguer mitjà mensual (Euros/mes)   715.45\n",
      "2603  2018          4               8    Nou Barris          49  Canyelles  Lloguer mitjà mensual (Euros/mes)   774.38\n",
      "2968  2019          1               8    Nou Barris          49  Canyelles  Lloguer mitjà mensual (Euros/mes)    791.9\n",
      "3114  2019          2               8    Nou Barris          49  Canyelles  Lloguer mitjà mensual (Euros/mes)    756.4\n",
      "3260  2019          3               8    Nou Barris          49  Canyelles  Lloguer mitjà mensual (Euros/mes)    714.4\n",
      "3406  2019          4               8    Nou Barris          49  Canyelles  Lloguer mitjà mensual (Euros/mes)    722.5\n",
      "3552  2020          1               8    Nou Barris          49  Canyelles  Lloguer mitjà mensual (Euros/mes)    778.0\n",
      "3698  2020          2               8    Nou Barris          49  Canyelles  Lloguer mitjà mensual (Euros/mes)   750.25\n",
      "3844  2020          3               8    Nou Barris          49  Canyelles  Lloguer mitjà mensual (Euros/mes)    833.3\n",
      "3990  2020          4               8    Nou Barris          49  Canyelles  Lloguer mitjà mensual (Euros/mes)    756.1\n",
      "4136  2021          1               8    Nou Barris          49  Canyelles  Lloguer mitjà mensual (Euros/mes)    762.5\n",
      "4282  2021          2               8    Nou Barris          49  Canyelles  Lloguer mitjà mensual (Euros/mes)    673.8\n",
      "4428  2021          3               8    Nou Barris          49  Canyelles  Lloguer mitjà mensual (Euros/mes)    769.9\n",
      "4574  2021          4               8    Nou Barris          49  Canyelles  Lloguer mitjà mensual (Euros/mes)    763.3\n",
      "4720  2022          1               8    Nou Barris          49  Canyelles  Lloguer mitjà mensual (Euros/mes)    655.0\n",
      "4866  2022          2               8    Nou Barris          49  Canyelles  Lloguer mitjà mensual (Euros/mes)    851.3\n",
      "5012  2022          3               8    Nou Barris          49  Canyelles  Lloguer mitjà mensual (Euros/mes)   753.15\n",
      "5158  2023          1               8    Nou Barris          49  Canyelles  Lloguer mitjà mensual (Euros/mes)    822.8\n",
      "5304  2023          2               8    Nou Barris          49  Canyelles  Lloguer mitjà mensual (Euros/mes)    845.6\n"
     ]
    }
   ],
   "source": [
    "# Only for Canyelles cause it is the barri with less missed ata\n",
    "\n",
    "barri = 49\n",
    "mask_all = (price['Lloguer_mitja'] == 'Lloguer mitjà mensual (Euros/mes)') & (price[\"Codi_Barri\"] == barri)\n",
    "price[\"Preu\"] = price[mask_all][\"Preu\"].fillna(price[mask_all][\"Preu\"].rolling(3,min_periods=1).mean())\n",
    "print(price[mask_all])"
   ]
  },
  {
   "cell_type": "code",
   "execution_count": null,
   "id": "70050005-4a89-4a20-8f24-61031f637e3c",
   "metadata": {},
   "outputs": [],
   "source": []
  },
  {
   "cell_type": "code",
   "execution_count": null,
   "id": "1e677afe-ae87-48f9-8ca2-3a64cc2d72bd",
   "metadata": {},
   "outputs": [],
   "source": []
  }
 ],
 "metadata": {
  "kernelspec": {
   "display_name": "Python 3 (ipykernel)",
   "language": "python",
   "name": "python3"
  },
  "language_info": {
   "codemirror_mode": {
    "name": "ipython",
    "version": 3
   },
   "file_extension": ".py",
   "mimetype": "text/x-python",
   "name": "python",
   "nbconvert_exporter": "python",
   "pygments_lexer": "ipython3",
   "version": "3.11.5"
  }
 },
 "nbformat": 4,
 "nbformat_minor": 5
}
