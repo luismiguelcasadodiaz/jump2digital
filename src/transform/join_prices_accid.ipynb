{
 "cells": [
  {
   "cell_type": "markdown",
   "id": "18f26579-f89a-4c33-8af7-dde940fb443a",
   "metadata": {},
   "source": [
    "### <span style='color:red'> Unint preus i accidents.<br> </span><span style='color:green'> Uniendo precios y accidentes.<br></span><span style='color:blue'> Joining prices and accidents.<br></span>"
   ]
  },
  {
   "cell_type": "code",
   "execution_count": 1,
   "id": "da48c4ec-e523-479e-bfed-1213cce3963b",
   "metadata": {},
   "outputs": [],
   "source": [
    "import os\n",
    "import pandas as pd\n",
    "import numpy as np\n",
    "home_dir = os.getcwd()\n",
    "price_folder =  home_dir +'/../../data/price/'\n",
    "accid_folder =  home_dir +'/../../data/accid/'\n",
    "model_folder =  home_dir +'/../../data/model/'\n",
    "price_path = price_folder + 'prices_14_23.csv'\n",
    "accid_path = accid_folder + 'accidents_trimestrals_16_22.csv'\n",
    "model_path = model_folder + 'pca_model.csv'"
   ]
  },
  {
   "cell_type": "code",
   "execution_count": 2,
   "id": "b760a10b-2379-48cc-9831-fbffcb9fce60",
   "metadata": {},
   "outputs": [
    {
     "data": {
      "text/plain": [
       "(2479, 8)"
      ]
     },
     "execution_count": 2,
     "metadata": {},
     "output_type": "execute_result"
    }
   ],
   "source": [
    "#defining dtypes i save 32% of memory.\n",
    "#Use to checkit sum(list(price.memory_usage()))\n",
    "price_types = {\"Any\":np.uint16,\"Trimestre\":np.uint8,\"Nom_Districte\":str,\"Nom_Barri\":str,\"Eur\":np.float32,\"Clau\":str,\"Eur_m2\":np.float32,\"Date\":str}\n",
    "price = pd.read_csv(price_path, dtype = price_types)\n",
    "price.shape"
   ]
  },
  {
   "cell_type": "code",
   "execution_count": 3,
   "id": "89b899f2-6c8d-4e70-ac73-560eb386bc94",
   "metadata": {},
   "outputs": [
    {
     "data": {
      "text/plain": [
       "(2046, 8)"
      ]
     },
     "execution_count": 3,
     "metadata": {},
     "output_type": "execute_result"
    }
   ],
   "source": [
    "#defining dtypes i save 61% of memory.\n",
    "#Use to checkit sum(list(price.memory_usage()))\n",
    "accid_types = {\"Clau\":str,\"Accidents\":np.uint16,\"Mat\":np.uint8,\"Tar\":np.uint8,\"Nit\":np.uint8,\"Mat_P\":np.float32,\"Tar_p\":np.float32,\"Nit_p\":np.float32}\n",
    "accid = pd.read_csv(accid_path, dtype = accid_types)\n",
    "accid.shape"
   ]
  },
  {
   "cell_type": "code",
   "execution_count": 4,
   "id": "1b551780-b229-4614-8d73-685f8d727fe1",
   "metadata": {},
   "outputs": [],
   "source": [
    "raw_model = pd.merge(price, accid, on=\"Clau\")"
   ]
  },
  {
   "cell_type": "markdown",
   "id": "1c4c0ac4-2634-4ae1-9c27-434d441aabca",
   "metadata": {},
   "source": [
    "<span style='color:red'> Elecció de columnes.<br> </span><span style='color:green'> Selección de columnas.<br></span><span style='color:blue'> choice of columns.<br></span>"
   ]
  },
  {
   "cell_type": "code",
   "execution_count": 5,
   "id": "1db30eb9-e68a-44ec-9b93-215451a4a23b",
   "metadata": {},
   "outputs": [
    {
     "data": {
      "text/plain": [
       "(1802, 8)"
      ]
     },
     "execution_count": 5,
     "metadata": {},
     "output_type": "execute_result"
    }
   ],
   "source": [
    "pca_model = raw_model[[\"Nom_Barri\",\t\"Any\", \"Trimestre\", \"Eur\",\"Eur_m2\",\"Mat\",\t\"Tar\",\t\"Nit\"]]\n",
    "pca_model.shape"
   ]
  },
  {
   "cell_type": "code",
   "execution_count": 6,
   "id": "43858447-eb56-4f69-8a45-5a0ece203857",
   "metadata": {},
   "outputs": [
    {
     "data": {
      "text/html": [
       "<div>\n",
       "<style scoped>\n",
       "    .dataframe tbody tr th:only-of-type {\n",
       "        vertical-align: middle;\n",
       "    }\n",
       "\n",
       "    .dataframe tbody tr th {\n",
       "        vertical-align: top;\n",
       "    }\n",
       "\n",
       "    .dataframe thead th {\n",
       "        text-align: right;\n",
       "    }\n",
       "</style>\n",
       "<table border=\"1\" class=\"dataframe\">\n",
       "  <thead>\n",
       "    <tr style=\"text-align: right;\">\n",
       "      <th></th>\n",
       "      <th>Nom_Barri</th>\n",
       "      <th>Any</th>\n",
       "      <th>Trimestre</th>\n",
       "      <th>Eur</th>\n",
       "      <th>Eur_m2</th>\n",
       "      <th>Mat</th>\n",
       "      <th>Tar</th>\n",
       "      <th>Nit</th>\n",
       "    </tr>\n",
       "  </thead>\n",
       "  <tbody>\n",
       "    <tr>\n",
       "      <th>0</th>\n",
       "      <td>el Raval</td>\n",
       "      <td>2016</td>\n",
       "      <td>1</td>\n",
       "      <td>624.419983</td>\n",
       "      <td>11.650000</td>\n",
       "      <td>21</td>\n",
       "      <td>29</td>\n",
       "      <td>11</td>\n",
       "    </tr>\n",
       "    <tr>\n",
       "      <th>1</th>\n",
       "      <td>el Barri Gòtic</td>\n",
       "      <td>2016</td>\n",
       "      <td>1</td>\n",
       "      <td>893.419983</td>\n",
       "      <td>13.470000</td>\n",
       "      <td>17</td>\n",
       "      <td>12</td>\n",
       "      <td>3</td>\n",
       "    </tr>\n",
       "    <tr>\n",
       "      <th>2</th>\n",
       "      <td>la Barceloneta</td>\n",
       "      <td>2016</td>\n",
       "      <td>1</td>\n",
       "      <td>638.750000</td>\n",
       "      <td>17.299999</td>\n",
       "      <td>17</td>\n",
       "      <td>12</td>\n",
       "      <td>5</td>\n",
       "    </tr>\n",
       "    <tr>\n",
       "      <th>3</th>\n",
       "      <td>Sant Pere, Santa Caterina i la Ribera</td>\n",
       "      <td>2016</td>\n",
       "      <td>1</td>\n",
       "      <td>759.159973</td>\n",
       "      <td>12.940000</td>\n",
       "      <td>19</td>\n",
       "      <td>24</td>\n",
       "      <td>6</td>\n",
       "    </tr>\n",
       "    <tr>\n",
       "      <th>4</th>\n",
       "      <td>el Fort Pienc</td>\n",
       "      <td>2016</td>\n",
       "      <td>1</td>\n",
       "      <td>800.080017</td>\n",
       "      <td>11.190000</td>\n",
       "      <td>19</td>\n",
       "      <td>25</td>\n",
       "      <td>9</td>\n",
       "    </tr>\n",
       "  </tbody>\n",
       "</table>\n",
       "</div>"
      ],
      "text/plain": [
       "                               Nom_Barri   Any  Trimestre         Eur  \\\n",
       "0                               el Raval  2016          1  624.419983   \n",
       "1                         el Barri Gòtic  2016          1  893.419983   \n",
       "2                         la Barceloneta  2016          1  638.750000   \n",
       "3  Sant Pere, Santa Caterina i la Ribera  2016          1  759.159973   \n",
       "4                          el Fort Pienc  2016          1  800.080017   \n",
       "\n",
       "      Eur_m2  Mat  Tar  Nit  \n",
       "0  11.650000   21   29   11  \n",
       "1  13.470000   17   12    3  \n",
       "2  17.299999   17   12    5  \n",
       "3  12.940000   19   24    6  \n",
       "4  11.190000   19   25    9  "
      ]
     },
     "execution_count": 6,
     "metadata": {},
     "output_type": "execute_result"
    }
   ],
   "source": [
    "pca_model.head()"
   ]
  },
  {
   "cell_type": "code",
   "execution_count": 7,
   "id": "ee1b3905-6602-49fb-80f6-c4a061178b1d",
   "metadata": {},
   "outputs": [],
   "source": [
    "pca_model.to_csv(model_path, index= False)"
   ]
  },
  {
   "cell_type": "code",
   "execution_count": 8,
   "id": "86ff48df-e189-4bbe-b2ec-297065d25923",
   "metadata": {},
   "outputs": [],
   "source": [
    "grouped = pca_model.groupby([\"Any\", \"Trimestre\"],group_keys=False)\n",
    "counted_quarter = grouped.size().unstack()"
   ]
  },
  {
   "cell_type": "code",
   "execution_count": 9,
   "id": "711eb00f-be78-40c5-836f-5f105e47f8f3",
   "metadata": {},
   "outputs": [
    {
     "data": {
      "text/html": [
       "<div>\n",
       "<style scoped>\n",
       "    .dataframe tbody tr th:only-of-type {\n",
       "        vertical-align: middle;\n",
       "    }\n",
       "\n",
       "    .dataframe tbody tr th {\n",
       "        vertical-align: top;\n",
       "    }\n",
       "\n",
       "    .dataframe thead th {\n",
       "        text-align: right;\n",
       "    }\n",
       "</style>\n",
       "<table border=\"1\" class=\"dataframe\">\n",
       "  <thead>\n",
       "    <tr style=\"text-align: right;\">\n",
       "      <th>Trimestre</th>\n",
       "      <th>1</th>\n",
       "      <th>2</th>\n",
       "      <th>3</th>\n",
       "      <th>4</th>\n",
       "    </tr>\n",
       "    <tr>\n",
       "      <th>Any</th>\n",
       "      <th></th>\n",
       "      <th></th>\n",
       "      <th></th>\n",
       "      <th></th>\n",
       "    </tr>\n",
       "  </thead>\n",
       "  <tbody>\n",
       "    <tr>\n",
       "      <th>2016</th>\n",
       "      <td>66.0</td>\n",
       "      <td>66.0</td>\n",
       "      <td>66.0</td>\n",
       "      <td>66.0</td>\n",
       "    </tr>\n",
       "    <tr>\n",
       "      <th>2017</th>\n",
       "      <td>66.0</td>\n",
       "      <td>67.0</td>\n",
       "      <td>67.0</td>\n",
       "      <td>67.0</td>\n",
       "    </tr>\n",
       "    <tr>\n",
       "      <th>2018</th>\n",
       "      <td>67.0</td>\n",
       "      <td>67.0</td>\n",
       "      <td>67.0</td>\n",
       "      <td>67.0</td>\n",
       "    </tr>\n",
       "    <tr>\n",
       "      <th>2019</th>\n",
       "      <td>67.0</td>\n",
       "      <td>67.0</td>\n",
       "      <td>67.0</td>\n",
       "      <td>67.0</td>\n",
       "    </tr>\n",
       "    <tr>\n",
       "      <th>2020</th>\n",
       "      <td>67.0</td>\n",
       "      <td>66.0</td>\n",
       "      <td>67.0</td>\n",
       "      <td>67.0</td>\n",
       "    </tr>\n",
       "    <tr>\n",
       "      <th>2021</th>\n",
       "      <td>67.0</td>\n",
       "      <td>67.0</td>\n",
       "      <td>67.0</td>\n",
       "      <td>66.0</td>\n",
       "    </tr>\n",
       "    <tr>\n",
       "      <th>2022</th>\n",
       "      <td>67.0</td>\n",
       "      <td>67.0</td>\n",
       "      <td>67.0</td>\n",
       "      <td>NaN</td>\n",
       "    </tr>\n",
       "  </tbody>\n",
       "</table>\n",
       "</div>"
      ],
      "text/plain": [
       "Trimestre     1     2     3     4\n",
       "Any                              \n",
       "2016       66.0  66.0  66.0  66.0\n",
       "2017       66.0  67.0  67.0  67.0\n",
       "2018       67.0  67.0  67.0  67.0\n",
       "2019       67.0  67.0  67.0  67.0\n",
       "2020       67.0  66.0  67.0  67.0\n",
       "2021       67.0  67.0  67.0  66.0\n",
       "2022       67.0  67.0  67.0   NaN"
      ]
     },
     "execution_count": 9,
     "metadata": {},
     "output_type": "execute_result"
    }
   ],
   "source": [
    "counted_quarter"
   ]
  },
  {
   "cell_type": "code",
   "execution_count": null,
   "id": "93659e25-cbf3-4f7a-8965-c18f299acb98",
   "metadata": {},
   "outputs": [],
   "source": []
  }
 ],
 "metadata": {
  "kernelspec": {
   "display_name": "Python 3 (ipykernel)",
   "language": "python",
   "name": "python3"
  },
  "language_info": {
   "codemirror_mode": {
    "name": "ipython",
    "version": 3
   },
   "file_extension": ".py",
   "mimetype": "text/x-python",
   "name": "python",
   "nbconvert_exporter": "python",
   "pygments_lexer": "ipython3",
   "version": "3.12.0"
  }
 },
 "nbformat": 4,
 "nbformat_minor": 5
}
