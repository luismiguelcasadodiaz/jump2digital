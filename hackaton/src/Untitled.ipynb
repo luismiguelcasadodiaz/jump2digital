{
 "cells": [
  {
   "cell_type": "code",
   "execution_count": 1,
   "id": "5f7f24ce-1719-4032-a2e8-2a15d87648d7",
   "metadata": {
    "tags": []
   },
   "outputs": [],
   "source": [
    "import pandas as pd"
   ]
  },
  {
   "cell_type": "code",
   "execution_count": 2,
   "id": "3b3c8104-e860-46ce-bf31-911d5ac35dd0",
   "metadata": {
    "tags": []
   },
   "outputs": [
    {
     "name": "stderr",
     "output_type": "stream",
     "text": [
      "/tmp/ipykernel_11812/120425393.py:2: DtypeWarning: Columns (17) have mixed types. Specify dtype option on import or set low_memory=False.\n",
      "  censo=pd.read_csv(censo_path)\n"
     ]
    }
   ],
   "source": [
    "censo_path=\"/home/luicasad/Documentos/python/jump2digital/hackaton/data/censo_2016.csv\"\n",
    "censo=pd.read_csv(censo_path)"
   ]
  },
  {
   "cell_type": "code",
   "execution_count": 3,
   "id": "d05f3b17-d17d-4bc4-a400-186cca93309b",
   "metadata": {
    "tags": []
   },
   "outputs": [
    {
     "data": {
      "text/plain": [
       "Index(['ID_BCN', 'ID_PRINCIP', 'N_PRINCIP', 'ID_SECTOR', 'N_SECTOR',\n",
       "       'ID_GRUPACT', 'N_GRUPACT', 'ID_ACT', 'N_ACT', 'N_LOCAL', 'SN_CARRER',\n",
       "       'SN_MERCAT', 'ID_MERCAT', 'N_MERCAT', 'SN_GALERIA', 'N_GALERIA',\n",
       "       'SN_CCOMERC', 'ID_CCOMERC', 'N_CCOMERC', 'N_CARRER', 'NUM_POLICI',\n",
       "       'REF_CAD', 'DATA', 'Codi_Barri', 'Nom_Barri', 'Codi_Districte',\n",
       "       'N_DISTRI', 'N_EIX', 'SN_EIX', 'SEC_CENS', 'Y_UTM_ETRS', 'X_UTM_ETRS',\n",
       "       'LATITUD', 'LONGITUD'],\n",
       "      dtype='object')"
      ]
     },
     "execution_count": 3,
     "metadata": {},
     "output_type": "execute_result"
    }
   ],
   "source": [
    "censo.columns"
   ]
  },
  {
   "cell_type": "code",
   "execution_count": 4,
   "id": "4ccaa300-c49e-4d25-9f11-8bdc8d94e5f4",
   "metadata": {
    "tags": []
   },
   "outputs": [],
   "source": [
    "actividades = censo.groupby([\"N_SECTOR\", \"Codi_Districte\"])"
   ]
  },
  {
   "cell_type": "code",
   "execution_count": 5,
   "id": "ab55a66e-df66-4c2c-a99a-da2b0a121bc8",
   "metadata": {
    "tags": []
   },
   "outputs": [],
   "source": [
    "counted_act = actividades.size().unstack()"
   ]
  },
  {
   "cell_type": "code",
   "execution_count": 6,
   "id": "8199ea0f-c8a9-4c60-8a46-d4aa65d1c2cb",
   "metadata": {
    "tags": []
   },
   "outputs": [
    {
     "data": {
      "text/html": [
       "<div>\n",
       "<style scoped>\n",
       "    .dataframe tbody tr th:only-of-type {\n",
       "        vertical-align: middle;\n",
       "    }\n",
       "\n",
       "    .dataframe tbody tr th {\n",
       "        vertical-align: top;\n",
       "    }\n",
       "\n",
       "    .dataframe thead th {\n",
       "        text-align: right;\n",
       "    }\n",
       "</style>\n",
       "<table border=\"1\" class=\"dataframe\">\n",
       "  <thead>\n",
       "    <tr style=\"text-align: right;\">\n",
       "      <th>Codi_Districte</th>\n",
       "      <th>1</th>\n",
       "      <th>2</th>\n",
       "      <th>3</th>\n",
       "      <th>4</th>\n",
       "      <th>5</th>\n",
       "      <th>6</th>\n",
       "      <th>7</th>\n",
       "      <th>8</th>\n",
       "      <th>9</th>\n",
       "      <th>10</th>\n",
       "    </tr>\n",
       "    <tr>\n",
       "      <th>N_SECTOR</th>\n",
       "      <th></th>\n",
       "      <th></th>\n",
       "      <th></th>\n",
       "      <th></th>\n",
       "      <th></th>\n",
       "      <th></th>\n",
       "      <th></th>\n",
       "      <th></th>\n",
       "      <th></th>\n",
       "      <th></th>\n",
       "    </tr>\n",
       "  </thead>\n",
       "  <tbody>\n",
       "    <tr>\n",
       "      <th>Altres</th>\n",
       "      <td>444</td>\n",
       "      <td>1187</td>\n",
       "      <td>652</td>\n",
       "      <td>253</td>\n",
       "      <td>416</td>\n",
       "      <td>570</td>\n",
       "      <td>485</td>\n",
       "      <td>502</td>\n",
       "      <td>576</td>\n",
       "      <td>660</td>\n",
       "    </tr>\n",
       "    <tr>\n",
       "      <th>Comerç al detall</th>\n",
       "      <td>3150</td>\n",
       "      <td>5461</td>\n",
       "      <td>1838</td>\n",
       "      <td>905</td>\n",
       "      <td>2184</td>\n",
       "      <td>2147</td>\n",
       "      <td>1435</td>\n",
       "      <td>1640</td>\n",
       "      <td>1564</td>\n",
       "      <td>2423</td>\n",
       "    </tr>\n",
       "    <tr>\n",
       "      <th>En reforma</th>\n",
       "      <td>67</td>\n",
       "      <td>215</td>\n",
       "      <td>75</td>\n",
       "      <td>29</td>\n",
       "      <td>62</td>\n",
       "      <td>51</td>\n",
       "      <td>44</td>\n",
       "      <td>30</td>\n",
       "      <td>33</td>\n",
       "      <td>92</td>\n",
       "    </tr>\n",
       "    <tr>\n",
       "      <th>Locals buits en lloguer</th>\n",
       "      <td>55</td>\n",
       "      <td>340</td>\n",
       "      <td>267</td>\n",
       "      <td>123</td>\n",
       "      <td>199</td>\n",
       "      <td>192</td>\n",
       "      <td>260</td>\n",
       "      <td>265</td>\n",
       "      <td>253</td>\n",
       "      <td>254</td>\n",
       "    </tr>\n",
       "    <tr>\n",
       "      <th>Locals buits en venda</th>\n",
       "      <td>29</td>\n",
       "      <td>93</td>\n",
       "      <td>122</td>\n",
       "      <td>39</td>\n",
       "      <td>43</td>\n",
       "      <td>51</td>\n",
       "      <td>91</td>\n",
       "      <td>124</td>\n",
       "      <td>85</td>\n",
       "      <td>110</td>\n",
       "    </tr>\n",
       "    <tr>\n",
       "      <th>Locals buits en venda i lloguer</th>\n",
       "      <td>75</td>\n",
       "      <td>195</td>\n",
       "      <td>96</td>\n",
       "      <td>58</td>\n",
       "      <td>58</td>\n",
       "      <td>134</td>\n",
       "      <td>96</td>\n",
       "      <td>108</td>\n",
       "      <td>111</td>\n",
       "      <td>121</td>\n",
       "    </tr>\n",
       "    <tr>\n",
       "      <th>Sense informació</th>\n",
       "      <td>1367</td>\n",
       "      <td>968</td>\n",
       "      <td>1704</td>\n",
       "      <td>559</td>\n",
       "      <td>852</td>\n",
       "      <td>1714</td>\n",
       "      <td>1496</td>\n",
       "      <td>1306</td>\n",
       "      <td>1070</td>\n",
       "      <td>1987</td>\n",
       "    </tr>\n",
       "    <tr>\n",
       "      <th>Serveis</th>\n",
       "      <td>2628</td>\n",
       "      <td>7720</td>\n",
       "      <td>3023</td>\n",
       "      <td>1704</td>\n",
       "      <td>3171</td>\n",
       "      <td>2734</td>\n",
       "      <td>2423</td>\n",
       "      <td>2238</td>\n",
       "      <td>2101</td>\n",
       "      <td>4031</td>\n",
       "    </tr>\n",
       "  </tbody>\n",
       "</table>\n",
       "</div>"
      ],
      "text/plain": [
       "Codi_Districte                     1     2     3     4     5     6     7   \\\n",
       "N_SECTOR                                                                    \n",
       "Altres                            444  1187   652   253   416   570   485   \n",
       "Comerç al detall                 3150  5461  1838   905  2184  2147  1435   \n",
       "En reforma                         67   215    75    29    62    51    44   \n",
       "Locals buits en lloguer            55   340   267   123   199   192   260   \n",
       "Locals buits en venda              29    93   122    39    43    51    91   \n",
       "Locals buits en venda i lloguer    75   195    96    58    58   134    96   \n",
       "Sense informació                 1367   968  1704   559   852  1714  1496   \n",
       "Serveis                          2628  7720  3023  1704  3171  2734  2423   \n",
       "\n",
       "Codi_Districte                     8     9     10  \n",
       "N_SECTOR                                           \n",
       "Altres                            502   576   660  \n",
       "Comerç al detall                 1640  1564  2423  \n",
       "En reforma                         30    33    92  \n",
       "Locals buits en lloguer           265   253   254  \n",
       "Locals buits en venda             124    85   110  \n",
       "Locals buits en venda i lloguer   108   111   121  \n",
       "Sense informació                 1306  1070  1987  \n",
       "Serveis                          2238  2101  4031  "
      ]
     },
     "execution_count": 6,
     "metadata": {},
     "output_type": "execute_result"
    }
   ],
   "source": [
    "counted_act"
   ]
  },
  {
   "cell_type": "code",
   "execution_count": 7,
   "id": "31072c47-2fa8-452d-a171-b5c2eaf0970b",
   "metadata": {
    "tags": []
   },
   "outputs": [
    {
     "data": {
      "text/plain": [
       "pandas.core.frame.DataFrame"
      ]
     },
     "execution_count": 7,
     "metadata": {},
     "output_type": "execute_result"
    }
   ],
   "source": [
    "type(counted_act)"
   ]
  },
  {
   "cell_type": "code",
   "execution_count": 12,
   "id": "4f7d722a-5a9e-4765-87cf-68558e6729d8",
   "metadata": {
    "tags": []
   },
   "outputs": [
    {
     "data": {
      "text/plain": [
       "6"
      ]
     },
     "execution_count": 12,
     "metadata": {},
     "output_type": "execute_result"
    }
   ],
   "source": [
    "len(counted_act.index[0])\n"
   ]
  },
  {
   "cell_type": "code",
   "execution_count": 16,
   "id": "4a836e00-c6f2-467a-b9f7-5ec894c42bb2",
   "metadata": {
    "tags": []
   },
   "outputs": [
    {
     "ename": "AttributeError",
     "evalue": "'str' object has no attribute 'value'",
     "output_type": "error",
     "traceback": [
      "\u001b[0;31m---------------------------------------------------------------------------\u001b[0m",
      "\u001b[0;31mAttributeError\u001b[0m                            Traceback (most recent call last)",
      "Cell \u001b[0;32mIn[16], line 1\u001b[0m\n\u001b[0;32m----> 1\u001b[0m counted_act\u001b[38;5;241m.\u001b[39mindex[\u001b[38;5;241m0\u001b[39m]\u001b[38;5;241m.\u001b[39mvalue\n",
      "\u001b[0;31mAttributeError\u001b[0m: 'str' object has no attribute 'value'"
     ]
    }
   ],
   "source": [
    "counted_act.index[0].value"
   ]
  },
  {
   "cell_type": "code",
   "execution_count": null,
   "id": "30e3d203-43f9-4050-ac58-194412910e3d",
   "metadata": {},
   "outputs": [],
   "source": []
  }
 ],
 "metadata": {
  "kernelspec": {
   "display_name": "Python 3 (ipykernel)",
   "language": "python",
   "name": "python3"
  },
  "language_info": {
   "codemirror_mode": {
    "name": "ipython",
    "version": 3
   },
   "file_extension": ".py",
   "mimetype": "text/x-python",
   "name": "python",
   "nbconvert_exporter": "python",
   "pygments_lexer": "ipython3",
   "version": "3.11.5"
  }
 },
 "nbformat": 4,
 "nbformat_minor": 5
}
