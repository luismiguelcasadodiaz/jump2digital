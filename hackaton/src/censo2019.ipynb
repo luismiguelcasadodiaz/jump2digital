{
 "cells": [
  {
   "cell_type": "code",
   "execution_count": 2,
   "id": "b076fa07-aaa2-40be-adb3-bcfa846b37ed",
   "metadata": {
    "tags": []
   },
   "outputs": [],
   "source": [
    "import pandas as pd"
   ]
  },
  {
   "cell_type": "code",
   "execution_count": 7,
   "id": "8f9770c7-ac04-43e4-82e7-1ebfcd1db625",
   "metadata": {
    "tags": []
   },
   "outputs": [],
   "source": [
    "def count_NAN(df:pd.DataFrame):\n",
    "    \"\"\"\n",
    "    Count NAN values in each column of a dataset.\n",
    "    Print 8 counts in per line\n",
    "    \"\"\"\n",
    "    col_counter = 1\n",
    "    for col in df.columns:\n",
    "        count = df[col].isna().sum()\n",
    "        if ((col_counter % 8) == 0):\n",
    "            sep = \"|\\n\"\n",
    "        else:\n",
    "            sep = \"| \"\n",
    "        print(\"|{} = {}\".format(col,count), end=sep)\n",
    "        col_counter = col_counter + 1"
   ]
  },
  {
   "cell_type": "code",
   "execution_count": 4,
   "id": "1d6cc33d-03d7-4291-a0f4-01df6dc08933",
   "metadata": {
    "tags": []
   },
   "outputs": [
    {
     "name": "stderr",
     "output_type": "stream",
     "text": [
      "/tmp/ipykernel_8476/2482116879.py:2: DtypeWarning: Columns (35,37) have mixed types. Specify dtype option on import or set low_memory=False.\n",
      "  censo=pd.read_csv(censo_path)\n"
     ]
    }
   ],
   "source": [
    "censo_path=\"/home/luicasad/Documentos/python/jump2digital/hackaton/data/censo_2019.csv\"\n",
    "censo=pd.read_csv(censo_path)"
   ]
  },
  {
   "cell_type": "code",
   "execution_count": 16,
   "id": "e457c7c3-d1af-4561-8cd6-f83685e0ee08",
   "metadata": {
    "tags": []
   },
   "outputs": [
    {
     "data": {
      "text/plain": [
       "Index(['ID_Bcn_2019', 'ID_Bcn_2016', 'Codi_Principal_Activitat',\n",
       "       'Nom_Principal_Activitat', 'Codi_Sector_Activitat',\n",
       "       'Nom_Sector_Activitat', 'Codi_Grup_Activitat', 'Nom_Grup_Activitat',\n",
       "       'Codi_Activitat_2019', 'Nom_Activitat', 'Codi_Activitat_2016',\n",
       "       'Nom_Local', 'SN_Oci_Nocturn', 'SN_Coworking', 'SN_Servei_Degustacio',\n",
       "       'SN_Obert24h', 'SN_Mixtura', 'SN_Carrer', 'SN_Mercat', 'Nom_Mercat',\n",
       "       'SN_Galeria', 'Nom_Galeria', 'SN_CComercial', 'Nom_CComercial',\n",
       "       'SN_Eix', 'Nom_Eix', 'X_UTM_ETRS89', 'Y_UTM_ETRS89', 'Latitud',\n",
       "       'Longitud', 'Direccio_Unica', 'Codi_Via', 'Nom_Via', 'Planta', 'Porta',\n",
       "       'Num_Policia_Inicial', 'Lletra_Inicial', 'Num_Policia_Final',\n",
       "       'Lletra_Final', 'Solar', 'Codi_Parcela', 'Codi_Illa', 'Seccio_Censal',\n",
       "       'Codi_Barri', 'Nom_Barri', 'Codi_Districte', 'Nom_Districte',\n",
       "       'Referencia_cadastral', 'Data_Revisio'],\n",
       "      dtype='object')"
      ]
     },
     "execution_count": 16,
     "metadata": {},
     "output_type": "execute_result"
    }
   ],
   "source": [
    "censo.columns"
   ]
  },
  {
   "cell_type": "code",
   "execution_count": 6,
   "id": "3567dae5-18c0-4068-8f44-a94ad74c4eac",
   "metadata": {
    "tags": []
   },
   "outputs": [
    {
     "data": {
      "text/plain": [
       "array(['Actiu', 'Sense activitat Econòmica'], dtype=object)"
      ]
     },
     "execution_count": 6,
     "metadata": {},
     "output_type": "execute_result"
    }
   ],
   "source": [
    "censo.Nom_Principal_Activitat.unique()"
   ]
  },
  {
   "cell_type": "code",
   "execution_count": 12,
   "id": "9c04f4ab-0bed-4b05-a2bc-47c7210dd206",
   "metadata": {
    "tags": []
   },
   "outputs": [
    {
     "data": {
      "text/plain": [
       "array([nan, 'Barna Centre', 'Rambla Catalunya', 'Sant Antoni Comer',\n",
       "       'EL Clot', 'Passeig de Gr�cia', 'Cor Eixample', 'Sant Andreu',\n",
       "       'Sant Gervasi', \"Cor d'Horta i Mercat\", 'Sants-Les Corts', 'Raval',\n",
       "       'Sagrada Fam�lia', 'Nou Barris Centre Comer', 'La Rambla', 'Sarri',\n",
       "       'Sant Mart', 'Sants-Creu Coberta', 'Gran de Gr�cia', 'Maragall',\n",
       "       'Nou Eixample', 'Poblenou', 'Sarria', 'Passeig de Gracia',\n",
       "       'SANT MARTI', 'Sagrada Familia', 'Sant Marti', 'Passeig de Gràcia',\n",
       "       'SAN MART'], dtype=object)"
      ]
     },
     "execution_count": 12,
     "metadata": {},
     "output_type": "execute_result"
    }
   ],
   "source": [
    "censo.Nom_Eix.unique()"
   ]
  },
  {
   "cell_type": "code",
   "execution_count": 18,
   "id": "5dfcb761-8220-4be7-903d-9a87cec8e76e",
   "metadata": {
    "tags": []
   },
   "outputs": [
    {
     "data": {
      "text/plain": [
       "51438"
      ]
     },
     "execution_count": 18,
     "metadata": {},
     "output_type": "execute_result"
    }
   ],
   "source": [
    "len(censo.Nom_Local.unique())"
   ]
  },
  {
   "cell_type": "code",
   "execution_count": 32,
   "id": "e05f7c95-a008-4ab5-9312-d142b8df1577",
   "metadata": {
    "tags": []
   },
   "outputs": [],
   "source": [
    "mask_actiu=censo[\"Nom_Principal_Activitat\"] == \"Actiu\""
   ]
  },
  {
   "cell_type": "code",
   "execution_count": 33,
   "id": "2cde0f03-6924-4062-9ce5-853cbdc01ce9",
   "metadata": {
    "tags": []
   },
   "outputs": [],
   "source": [
    "mask_sense=censo[\"Nom_Principal_Activitat\"] == \"Sense activitat Econòmica\""
   ]
  },
  {
   "cell_type": "code",
   "execution_count": 35,
   "id": "0da62004-a721-48f8-900c-770bc2ef0de0",
   "metadata": {
    "tags": []
   },
   "outputs": [
    {
     "name": "stdout",
     "output_type": "stream",
     "text": [
      "Hay 61558 locales activos y 18996 locales vacios\n"
     ]
    }
   ],
   "source": [
    "print(\"Hay {} locales activos y {} locales vacios\".format(censo[mask_actiu].shape[0], censo[mask_sense].shape[0]))"
   ]
  },
  {
   "cell_type": "code",
   "execution_count": 37,
   "id": "f4b1abaf-c143-47bd-9773-e035fe867e4b",
   "metadata": {
    "tags": []
   },
   "outputs": [],
   "source": [
    "mask_actiu_sn=(censo[\"Nom_Principal_Activitat\"] == \"Actiu\") & (censo[\"Nom_Local\"] == \"SN\")"
   ]
  },
  {
   "cell_type": "code",
   "execution_count": 38,
   "id": "791b6edb-8035-48b2-a7c1-448eb127269e",
   "metadata": {
    "tags": []
   },
   "outputs": [
    {
     "data": {
      "text/plain": [
       "(3895, 49)"
      ]
     },
     "execution_count": 38,
     "metadata": {},
     "output_type": "execute_result"
    }
   ],
   "source": [
    "censo[mask_actiu_sn].shape"
   ]
  },
  {
   "cell_type": "code",
   "execution_count": 39,
   "id": "a9e2239b-a57d-4ee6-8759-61f23b22c393",
   "metadata": {
    "tags": []
   },
   "outputs": [
    {
     "data": {
      "text/plain": [
       "array(['Serveis', 'Altres', 'Comerç al detall', 'Sense informació',\n",
       "       'Sense informació - Havia tingut activitat (rètol)', 'En reforma',\n",
       "       'Locals buits en venda i lloguer', 'Locals buits en lloguer',\n",
       "       'Locals buits en venda', 'Comerç al detall /Engròs'], dtype=object)"
      ]
     },
     "execution_count": 39,
     "metadata": {},
     "output_type": "execute_result"
    }
   ],
   "source": [
    "censo.Nom_Sector_Activitat.unique()"
   ]
  },
  {
   "cell_type": "code",
   "execution_count": 46,
   "id": "9596b21d-4b77-46a9-8078-6c82ba32074d",
   "metadata": {
    "tags": []
   },
   "outputs": [],
   "source": [
    "actividades = censo.groupby([\"Nom_Sector_Activitat\", \"Codi_Districte\"])"
   ]
  },
  {
   "cell_type": "code",
   "execution_count": 49,
   "id": "ab21c666-137a-4400-aa9d-2dfc5dccd5f3",
   "metadata": {
    "tags": []
   },
   "outputs": [],
   "source": [
    "counted_act = actividades.size().unstack()"
   ]
  },
  {
   "cell_type": "code",
   "execution_count": 50,
   "id": "695958f6-f77e-4820-9c0b-4753f7cc4bb3",
   "metadata": {
    "tags": []
   },
   "outputs": [
    {
     "data": {
      "text/html": [
       "<div>\n",
       "<style scoped>\n",
       "    .dataframe tbody tr th:only-of-type {\n",
       "        vertical-align: middle;\n",
       "    }\n",
       "\n",
       "    .dataframe tbody tr th {\n",
       "        vertical-align: top;\n",
       "    }\n",
       "\n",
       "    .dataframe thead th {\n",
       "        text-align: right;\n",
       "    }\n",
       "</style>\n",
       "<table border=\"1\" class=\"dataframe\">\n",
       "  <thead>\n",
       "    <tr style=\"text-align: right;\">\n",
       "      <th>Codi_Districte</th>\n",
       "      <th>1</th>\n",
       "      <th>2</th>\n",
       "      <th>3</th>\n",
       "      <th>4</th>\n",
       "      <th>5</th>\n",
       "      <th>6</th>\n",
       "      <th>7</th>\n",
       "      <th>8</th>\n",
       "      <th>9</th>\n",
       "      <th>10</th>\n",
       "    </tr>\n",
       "    <tr>\n",
       "      <th>Nom_Sector_Activitat</th>\n",
       "      <th></th>\n",
       "      <th></th>\n",
       "      <th></th>\n",
       "      <th></th>\n",
       "      <th></th>\n",
       "      <th></th>\n",
       "      <th></th>\n",
       "      <th></th>\n",
       "      <th></th>\n",
       "      <th></th>\n",
       "    </tr>\n",
       "  </thead>\n",
       "  <tbody>\n",
       "    <tr>\n",
       "      <th>Altres</th>\n",
       "      <td>470</td>\n",
       "      <td>957</td>\n",
       "      <td>756</td>\n",
       "      <td>360</td>\n",
       "      <td>522</td>\n",
       "      <td>559</td>\n",
       "      <td>481</td>\n",
       "      <td>484</td>\n",
       "      <td>632</td>\n",
       "      <td>927</td>\n",
       "    </tr>\n",
       "    <tr>\n",
       "      <th>Comerç al detall</th>\n",
       "      <td>2906</td>\n",
       "      <td>5118</td>\n",
       "      <td>1742</td>\n",
       "      <td>836</td>\n",
       "      <td>2143</td>\n",
       "      <td>2038</td>\n",
       "      <td>1316</td>\n",
       "      <td>1529</td>\n",
       "      <td>1448</td>\n",
       "      <td>2250</td>\n",
       "    </tr>\n",
       "    <tr>\n",
       "      <th>Comerç al detall /Engròs</th>\n",
       "      <td>98</td>\n",
       "      <td>181</td>\n",
       "      <td>65</td>\n",
       "      <td>22</td>\n",
       "      <td>49</td>\n",
       "      <td>45</td>\n",
       "      <td>30</td>\n",
       "      <td>43</td>\n",
       "      <td>50</td>\n",
       "      <td>99</td>\n",
       "    </tr>\n",
       "    <tr>\n",
       "      <th>En reforma</th>\n",
       "      <td>110</td>\n",
       "      <td>233</td>\n",
       "      <td>114</td>\n",
       "      <td>53</td>\n",
       "      <td>124</td>\n",
       "      <td>95</td>\n",
       "      <td>45</td>\n",
       "      <td>50</td>\n",
       "      <td>48</td>\n",
       "      <td>82</td>\n",
       "    </tr>\n",
       "    <tr>\n",
       "      <th>Locals buits en lloguer</th>\n",
       "      <td>79</td>\n",
       "      <td>246</td>\n",
       "      <td>139</td>\n",
       "      <td>59</td>\n",
       "      <td>178</td>\n",
       "      <td>167</td>\n",
       "      <td>113</td>\n",
       "      <td>153</td>\n",
       "      <td>136</td>\n",
       "      <td>126</td>\n",
       "    </tr>\n",
       "    <tr>\n",
       "      <th>Locals buits en venda</th>\n",
       "      <td>20</td>\n",
       "      <td>66</td>\n",
       "      <td>55</td>\n",
       "      <td>28</td>\n",
       "      <td>24</td>\n",
       "      <td>160</td>\n",
       "      <td>71</td>\n",
       "      <td>82</td>\n",
       "      <td>55</td>\n",
       "      <td>81</td>\n",
       "    </tr>\n",
       "    <tr>\n",
       "      <th>Locals buits en venda i lloguer</th>\n",
       "      <td>61</td>\n",
       "      <td>98</td>\n",
       "      <td>65</td>\n",
       "      <td>22</td>\n",
       "      <td>77</td>\n",
       "      <td>38</td>\n",
       "      <td>48</td>\n",
       "      <td>57</td>\n",
       "      <td>41</td>\n",
       "      <td>57</td>\n",
       "    </tr>\n",
       "    <tr>\n",
       "      <th>Sense informació</th>\n",
       "      <td>802</td>\n",
       "      <td>742</td>\n",
       "      <td>1609</td>\n",
       "      <td>374</td>\n",
       "      <td>763</td>\n",
       "      <td>1229</td>\n",
       "      <td>1859</td>\n",
       "      <td>1414</td>\n",
       "      <td>1056</td>\n",
       "      <td>1316</td>\n",
       "    </tr>\n",
       "    <tr>\n",
       "      <th>Sense informació - Havia tingut activitat (rètol)</th>\n",
       "      <td>530</td>\n",
       "      <td>524</td>\n",
       "      <td>477</td>\n",
       "      <td>125</td>\n",
       "      <td>172</td>\n",
       "      <td>335</td>\n",
       "      <td>394</td>\n",
       "      <td>565</td>\n",
       "      <td>374</td>\n",
       "      <td>780</td>\n",
       "    </tr>\n",
       "    <tr>\n",
       "      <th>Serveis</th>\n",
       "      <td>3090</td>\n",
       "      <td>7749</td>\n",
       "      <td>3212</td>\n",
       "      <td>1760</td>\n",
       "      <td>3666</td>\n",
       "      <td>2818</td>\n",
       "      <td>2157</td>\n",
       "      <td>2216</td>\n",
       "      <td>2319</td>\n",
       "      <td>4415</td>\n",
       "    </tr>\n",
       "  </tbody>\n",
       "</table>\n",
       "</div>"
      ],
      "text/plain": [
       "Codi_Districte                                       1     2     3     4   \\\n",
       "Nom_Sector_Activitat                                                        \n",
       "Altres                                              470   957   756   360   \n",
       "Comerç al detall                                   2906  5118  1742   836   \n",
       "Comerç al detall /Engròs                             98   181    65    22   \n",
       "En reforma                                          110   233   114    53   \n",
       "Locals buits en lloguer                              79   246   139    59   \n",
       "Locals buits en venda                                20    66    55    28   \n",
       "Locals buits en venda i lloguer                      61    98    65    22   \n",
       "Sense informació                                    802   742  1609   374   \n",
       "Sense informació - Havia tingut activitat (rètol)   530   524   477   125   \n",
       "Serveis                                            3090  7749  3212  1760   \n",
       "\n",
       "Codi_Districte                                       5     6     7     8   \\\n",
       "Nom_Sector_Activitat                                                        \n",
       "Altres                                              522   559   481   484   \n",
       "Comerç al detall                                   2143  2038  1316  1529   \n",
       "Comerç al detall /Engròs                             49    45    30    43   \n",
       "En reforma                                          124    95    45    50   \n",
       "Locals buits en lloguer                             178   167   113   153   \n",
       "Locals buits en venda                                24   160    71    82   \n",
       "Locals buits en venda i lloguer                      77    38    48    57   \n",
       "Sense informació                                    763  1229  1859  1414   \n",
       "Sense informació - Havia tingut activitat (rètol)   172   335   394   565   \n",
       "Serveis                                            3666  2818  2157  2216   \n",
       "\n",
       "Codi_Districte                                       9     10  \n",
       "Nom_Sector_Activitat                                           \n",
       "Altres                                              632   927  \n",
       "Comerç al detall                                   1448  2250  \n",
       "Comerç al detall /Engròs                             50    99  \n",
       "En reforma                                           48    82  \n",
       "Locals buits en lloguer                             136   126  \n",
       "Locals buits en venda                                55    81  \n",
       "Locals buits en venda i lloguer                      41    57  \n",
       "Sense informació                                   1056  1316  \n",
       "Sense informació - Havia tingut activitat (rètol)   374   780  \n",
       "Serveis                                            2319  4415  "
      ]
     },
     "execution_count": 50,
     "metadata": {},
     "output_type": "execute_result"
    }
   ],
   "source": [
    "counted_act"
   ]
  },
  {
   "cell_type": "code",
   "execution_count": 60,
   "id": "6c825e39-6c61-438c-a441-1f2a1a200c47",
   "metadata": {
    "tags": []
   },
   "outputs": [
    {
     "data": {
      "text/html": [
       "<div>\n",
       "<style scoped>\n",
       "    .dataframe tbody tr th:only-of-type {\n",
       "        vertical-align: middle;\n",
       "    }\n",
       "\n",
       "    .dataframe tbody tr th {\n",
       "        vertical-align: top;\n",
       "    }\n",
       "\n",
       "    .dataframe thead th {\n",
       "        text-align: right;\n",
       "    }\n",
       "</style>\n",
       "<table border=\"1\" class=\"dataframe\">\n",
       "  <thead>\n",
       "    <tr style=\"text-align: right;\">\n",
       "      <th>Codi_Districte</th>\n",
       "      <th>1</th>\n",
       "      <th>2</th>\n",
       "      <th>3</th>\n",
       "      <th>4</th>\n",
       "      <th>5</th>\n",
       "      <th>6</th>\n",
       "      <th>7</th>\n",
       "      <th>8</th>\n",
       "      <th>9</th>\n",
       "      <th>10</th>\n",
       "    </tr>\n",
       "    <tr>\n",
       "      <th>Nom_Principal_Activitat</th>\n",
       "      <th></th>\n",
       "      <th></th>\n",
       "      <th></th>\n",
       "      <th></th>\n",
       "      <th></th>\n",
       "      <th></th>\n",
       "      <th></th>\n",
       "      <th></th>\n",
       "      <th></th>\n",
       "      <th></th>\n",
       "    </tr>\n",
       "  </thead>\n",
       "  <tbody>\n",
       "    <tr>\n",
       "      <th>Actiu</th>\n",
       "      <td>6564</td>\n",
       "      <td>14005</td>\n",
       "      <td>5775</td>\n",
       "      <td>2978</td>\n",
       "      <td>6380</td>\n",
       "      <td>5460</td>\n",
       "      <td>3984</td>\n",
       "      <td>4272</td>\n",
       "      <td>4449</td>\n",
       "      <td>7691</td>\n",
       "    </tr>\n",
       "    <tr>\n",
       "      <th>Sense activitat Econòmica</th>\n",
       "      <td>1602</td>\n",
       "      <td>1909</td>\n",
       "      <td>2459</td>\n",
       "      <td>661</td>\n",
       "      <td>1338</td>\n",
       "      <td>2024</td>\n",
       "      <td>2530</td>\n",
       "      <td>2321</td>\n",
       "      <td>1710</td>\n",
       "      <td>2442</td>\n",
       "    </tr>\n",
       "  </tbody>\n",
       "</table>\n",
       "</div>"
      ],
      "text/plain": [
       "Codi_Districte               1      2     3     4     5     6     7     8   \\\n",
       "Nom_Principal_Activitat                                                      \n",
       "Actiu                      6564  14005  5775  2978  6380  5460  3984  4272   \n",
       "Sense activitat Econòmica  1602   1909  2459   661  1338  2024  2530  2321   \n",
       "\n",
       "Codi_Districte               9     10  \n",
       "Nom_Principal_Activitat                \n",
       "Actiu                      4449  7691  \n",
       "Sense activitat Econòmica  1710  2442  "
      ]
     },
     "execution_count": 60,
     "metadata": {},
     "output_type": "execute_result"
    }
   ],
   "source": [
    "activos_inactivos = censo.groupby([\"Nom_Principal_Activitat\", \"Codi_Districte\"])\n",
    "counted_activos_inactivos = activos_inactivos.size().unstack()\n",
    "counted_activos_inactivos"
   ]
  },
  {
   "cell_type": "code",
   "execution_count": 61,
   "id": "40e3e09b-e8f7-4565-808f-f47634003a45",
   "metadata": {
    "tags": []
   },
   "outputs": [
    {
     "data": {
      "text/plain": [
       "Nom_Principal_Activitat\n",
       "Actiu                        14005\n",
       "Sense activitat Econòmica     1909\n",
       "Name: 2, dtype: int64"
      ]
     },
     "execution_count": 61,
     "metadata": {},
     "output_type": "execute_result"
    }
   ],
   "source": [
    "counted_activos_inactivos[2]"
   ]
  },
  {
   "cell_type": "code",
   "execution_count": null,
   "id": "4e9e3438-178e-4a67-8806-ad8683133a94",
   "metadata": {},
   "outputs": [],
   "source": []
  }
 ],
 "metadata": {
  "kernelspec": {
   "display_name": "Python 3 (ipykernel)",
   "language": "python",
   "name": "python3"
  },
  "language_info": {
   "codemirror_mode": {
    "name": "ipython",
    "version": 3
   },
   "file_extension": ".py",
   "mimetype": "text/x-python",
   "name": "python",
   "nbconvert_exporter": "python",
   "pygments_lexer": "ipython3",
   "version": "3.11.5"
  }
 },
 "nbformat": 4,
 "nbformat_minor": 5
}
